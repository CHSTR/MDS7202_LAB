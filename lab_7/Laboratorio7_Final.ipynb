{
 "cells": [
  {
   "cell_type": "markdown",
   "metadata": {
    "cell_id": "e651654461c3474fb2b0d36de22a6c14",
    "deepnote_cell_height": 103.53334045410156,
    "deepnote_cell_type": "markdown",
    "id": "XUZ1dFPHzAHl"
   },
   "source": [
    "<h1><center>Laboratorio 7: Aprendizaje Supervisado 🔮</center></h1>\n",
    "\n",
    "<center><strong>MDS7202: Laboratorio de Programación Científica para Ciencia de Datos</strong></center>"
   ]
  },
  {
   "cell_type": "markdown",
   "metadata": {
    "cell_id": "7a6943958920482eb851e608d1efb6ac",
    "deepnote_cell_type": "markdown",
    "id": "UD8X1uhGzAHq"
   },
   "source": [
    "### Cuerpo Docente:\n",
    "\n",
    "- Profesor: Matías Rojas y Mauricio Araneda\n",
    "- Auxiliar: Ignacio Meza D.\n",
    "- Ayudante: Rodrigo Guerra"
   ]
  },
  {
   "cell_type": "markdown",
   "metadata": {
    "cell_id": "0202c4ed94184a289e51ca5325b8afba",
    "deepnote_cell_height": 139.5,
    "deepnote_cell_type": "markdown",
    "id": "tXflExjqzAHr"
   },
   "source": [
    "### Equipo: SUPER IMPORTANTE - notebooks sin nombre no serán revisados\n",
    "\n",
    "- Nombre de alumno 1: Diego Cortez\n",
    "- Nombre de alumno 2: Christopher Stears\n"
   ]
  },
  {
   "cell_type": "markdown",
   "metadata": {
    "cell_id": "ce180f8cd3f3485fabbe6c0959a648db",
    "deepnote_cell_height": 61.28334045410156,
    "deepnote_cell_type": "markdown",
    "id": "AD-V0bbZzAHr"
   },
   "source": [
    "### **Link de repositorio de GitHub:** [https://github.com/CHSTR/MDS7202_LAB](https://github.com/CHSTR/MDS7202_LAB)"
   ]
  },
  {
   "cell_type": "markdown",
   "metadata": {
    "cell_id": "df3ab193db4a4f09ac25dbe605e3a83a",
    "deepnote_cell_height": 603.8499755859375,
    "deepnote_cell_type": "markdown",
    "id": "6uBLPj1PzAHs"
   },
   "source": [
    "## Temas a tratar\n",
    "\n",
    "- Aprendizaje Supervisado\n",
    "- Flujos de datos a través de `Pipelines`.\n",
    "\n",
    "## Reglas\n",
    "\n",
    "- Fecha de entrega: TBD\n",
    "- **Grupos de 2 personas**\n",
    "- **Ausentes** deberán realizar la actividad solos. \n",
    "- Cualquier duda fuera del horario de clases al foro. Mensajes al equipo docente serán respondidos por este medio.\n",
    "- Prohibidas las copias. \n",
    "- Pueden usar cualquer matrial del curso que estimen conveniente.\n",
    "\n",
    "## Objetivos principales del laboratorio\n",
    "\n",
    "- Comprender el funcionamiento de clasificadores/regresores.\n",
    "- Generar múltiples modelos predictivos.\n",
    "- Comprender las ventajas de crear modelos en pipeline vs hacer las operaciones a mano.\n",
    "\n",
    "El laboratorio deberá ser desarrollado sin el uso indiscriminado de iteradores nativos de python (aka \"for\", \"while\"). La idea es que aprendan a exprimir al máximo las funciones optimizadas que nos entrega `pandas`, las cuales vale mencionar, son bastante más eficientes que los iteradores nativos sobre `DataFrames`."
   ]
  },
  {
   "cell_type": "markdown",
   "metadata": {
    "cell_id": "ad2df18de2544420960174a3f424bc5c",
    "deepnote_cell_height": 61.133331298828125,
    "deepnote_cell_type": "markdown",
    "id": "MhISwri4zAHy"
   },
   "source": [
    "### Importamos librerias utiles 😸"
   ]
  },
  {
   "cell_type": "code",
   "execution_count": 1,
   "metadata": {
    "ExecuteTime": {
     "end_time": "2021-03-29T00:08:16.884674Z",
     "start_time": "2021-03-29T00:08:16.349846Z"
    },
    "cell_id": "c99537db269c4b04970732c3cccac0c9",
    "colab": {
     "base_uri": "https://localhost:8080/"
    },
    "deepnote_cell_height": 896.5,
    "deepnote_cell_type": "code",
    "deepnote_to_be_reexecuted": false,
    "execution_millis": 7630,
    "execution_start": 1636741163382,
    "id": "uyc33dKdzAHy",
    "outputId": "e8cc251c-aa25-4fdb-db15-3027707cfbdf",
    "owner_user_id": "badcc427-fd3d-4615-9296-faa43ec69cfb",
    "source_hash": "cb3614e"
   },
   "outputs": [
    {
     "name": "stdout",
     "output_type": "stream",
     "text": [
      "Requirement already satisfied: plotly in c:\\programdata\\miniconda3\\envs\\datamining\\lib\\site-packages (5.11.0)\n",
      "Requirement already satisfied: tenacity>=6.2.0 in c:\\programdata\\miniconda3\\envs\\datamining\\lib\\site-packages (from plotly) (8.0.1)\n"
     ]
    }
   ],
   "source": [
    "# Libreria Core del lab.\n",
    "import numpy as np\n",
    "import pandas as pd\n",
    "from sklearn.pipeline import Pipeline\n",
    "from sklearn.compose import ColumnTransformer\n",
    "from sklearn.model_selection import train_test_split \n",
    "\n",
    "# Pre-procesamiento\n",
    "from sklearn.preprocessing import MinMaxScaler\n",
    "from sklearn.preprocessing import StandardScaler\n",
    "from sklearn.preprocessing import FunctionTransformer\n",
    "from sklearn.preprocessing import PowerTransformer\n",
    "from sklearn.preprocessing import OneHotEncoder\n",
    "from sklearn.tree import DecisionTreeClassifier\n",
    "\n",
    "# Metricas de evaluación\n",
    "from sklearn.metrics import classification_report\n",
    "from sklearn.metrics import accuracy_score\n",
    "from sklearn.metrics import f1_score\n",
    "from sklearn.metrics import cohen_kappa_score\n",
    "from sklearn.metrics import confusion_matrix\n",
    "\n",
    "#Libreria para plotear\n",
    "!pip install --upgrade plotly\n",
    "import plotly.express as px\n",
    "from plotly.subplots import make_subplots\n",
    "import plotly.graph_objects as go"
   ]
  },
  {
   "cell_type": "markdown",
   "metadata": {
    "cell_id": "3960faa7a101458896294c72b4b0758c",
    "deepnote_cell_height": 51.53334045410156,
    "deepnote_cell_type": "markdown",
    "id": "5FTGE74b3FBU"
   },
   "source": [
    "https://www.kaggle.com/antoinekrajnc/soccer-players-statistics"
   ]
  },
  {
   "cell_type": "markdown",
   "metadata": {
    "cell_id": "f9e9147f05744f749e29d4134157f1f3",
    "deepnote_cell_height": 305.933349609375,
    "deepnote_cell_type": "markdown",
    "id": "xpOTbQcxbSiy"
   },
   "source": [
    "# 1. Predicciones Futboleras\n",
    "\n",
    "<p align=\"center\">\n",
    "  <img src=\"https://drive.google.com/uc?export=view&id=1BnO4tyh3vM2P199Ec9s3JjngQ4qQ9seP\"\n",
    "\" width=\"300\">\n",
    "</p>\n",
    "\n",
    "\n",
    "Tras el trágico despido de la mítica mascota de Maipú, Renacín decide adentrarse como consultor en el mercado futbolero, el cuál (para variar...) está cargado en especulaciones. \n",
    "\n",
    "Como su principal tarea será asesorar a los directivos de los clubes sobre cuál jugador comprar y cuál no, Renacín desea generar modelos predictivos que evaluén distintas características de los jugadores; todo con el fin de tomar decisiones concretas basadas en los datos.\n",
    "\n",
    "Sin embargo, su condición de corporeo le impidió tomar la versión anterior de MDS7202, por lo que este motivo Renacín contrata a su equipo para lograr su objetivo final. Dado que aún tiene fuertes vínculos con la dirección de deportes de la municipalidad, el corporeo le entrega base de datos con las estadísticas de cada jugador para que su equipo empieze a trabajar ya con un dataset listo para ser usado.\n"
   ]
  },
  {
   "cell_type": "markdown",
   "metadata": {
    "cell_id": "5b831ae5e73547a1ae5f96b453f1ab2d",
    "deepnote_cell_height": 169.13333129882812,
    "deepnote_cell_type": "markdown",
    "id": "jnmZfFpxTTYX"
   },
   "source": [
    "**Los Datos**\n",
    "\n",
    "Para este laboratorio deberán trabajar con los csv `statsplayers.csv` y `salarios.pickle`, donde deberán aplicar algoritmos de de aprendizaje supervisado (clasificación y regresión) en base a características que describen de jugadores de futbol.\n",
    "\n",
    "Para comenzar cargue el dataset señalado y a continuación vea el reporte **`Player_Stats_Report.html`** (adjunto en la carpeta del enunciado) que describe las características principales del `DataFrame`."
   ]
  },
  {
   "cell_type": "code",
   "execution_count": 2,
   "metadata": {
    "cell_id": "9b9505acaf3f4906bbfc1950b04d9dca",
    "colab": {
     "base_uri": "https://localhost:8080/"
    },
    "deepnote_cell_height": 218.46665954589844,
    "deepnote_cell_type": "code",
    "deepnote_to_be_reexecuted": false,
    "execution_millis": 7,
    "execution_start": 1636741171022,
    "id": "Jqq-s010Iwl1",
    "outputId": "f4cecd84-95c6-4a80-e472-5b8ea011e843",
    "source_hash": "c60dc4a7"
   },
   "outputs": [
    {
     "name": "stdout",
     "output_type": "stream",
     "text": [
      "Ignorando conexión drive-colab\n"
     ]
    }
   ],
   "source": [
    "# Si usted está utilizando Colabolatory le puede ser útil este código para cargar los archivos.\n",
    "try:\n",
    "    from google.colab import drive\n",
    "    drive.mount(\"/content/drive\")\n",
    "    path = 'Dirección donde tiene los archivos en el Drive'\n",
    "except: \n",
    "    print('Ignorando conexión drive-colab')"
   ]
  },
  {
   "cell_type": "code",
   "execution_count": 3,
   "metadata": {
    "cell_id": "bbd60dabcba44542826c491f69c1f53c",
    "colab": {
     "base_uri": "https://localhost:8080/",
     "height": 309
    },
    "deepnote_cell_height": 490.70001220703125,
    "deepnote_cell_type": "code",
    "deepnote_output_heights": [
     377
    ],
    "deepnote_to_be_reexecuted": false,
    "execution_millis": 184,
    "execution_start": 1636742947300,
    "id": "bED3w3tDbSCf",
    "outputId": "8961b413-9ab2-4d57-8d77-648860771520",
    "source_hash": "65944a94"
   },
   "outputs": [
    {
     "data": {
      "text/html": [
       "<div>\n",
       "<style scoped>\n",
       "    .dataframe tbody tr th:only-of-type {\n",
       "        vertical-align: middle;\n",
       "    }\n",
       "\n",
       "    .dataframe tbody tr th {\n",
       "        vertical-align: top;\n",
       "    }\n",
       "\n",
       "    .dataframe thead th {\n",
       "        text-align: right;\n",
       "    }\n",
       "</style>\n",
       "<table border=\"1\" class=\"dataframe\">\n",
       "  <thead>\n",
       "    <tr style=\"text-align: right;\">\n",
       "      <th></th>\n",
       "      <th>Name</th>\n",
       "      <th>Nationality</th>\n",
       "      <th>National_Position</th>\n",
       "      <th>Club_Position</th>\n",
       "      <th>Height</th>\n",
       "      <th>Weight</th>\n",
       "      <th>Preffered_Foot</th>\n",
       "      <th>Age</th>\n",
       "      <th>Work_Rate</th>\n",
       "      <th>Weak_foot</th>\n",
       "      <th>...</th>\n",
       "      <th>Agility</th>\n",
       "      <th>Jumping</th>\n",
       "      <th>Heading</th>\n",
       "      <th>Shot_Power</th>\n",
       "      <th>Finishing</th>\n",
       "      <th>Long_Shots</th>\n",
       "      <th>Curve</th>\n",
       "      <th>Freekick_Accuracy</th>\n",
       "      <th>Penalties</th>\n",
       "      <th>Volleys</th>\n",
       "    </tr>\n",
       "  </thead>\n",
       "  <tbody>\n",
       "    <tr>\n",
       "      <th>0</th>\n",
       "      <td>Cristiano Ronaldo</td>\n",
       "      <td>Portugal</td>\n",
       "      <td>LS</td>\n",
       "      <td>LW</td>\n",
       "      <td>185</td>\n",
       "      <td>80</td>\n",
       "      <td>Right</td>\n",
       "      <td>32</td>\n",
       "      <td>High / Low</td>\n",
       "      <td>4</td>\n",
       "      <td>...</td>\n",
       "      <td>90</td>\n",
       "      <td>95</td>\n",
       "      <td>85</td>\n",
       "      <td>92</td>\n",
       "      <td>93</td>\n",
       "      <td>90</td>\n",
       "      <td>81</td>\n",
       "      <td>76</td>\n",
       "      <td>85</td>\n",
       "      <td>88</td>\n",
       "    </tr>\n",
       "    <tr>\n",
       "      <th>1</th>\n",
       "      <td>Lionel Messi</td>\n",
       "      <td>Argentina</td>\n",
       "      <td>RW</td>\n",
       "      <td>RW</td>\n",
       "      <td>170</td>\n",
       "      <td>72</td>\n",
       "      <td>Left</td>\n",
       "      <td>29</td>\n",
       "      <td>Medium / Medium</td>\n",
       "      <td>4</td>\n",
       "      <td>...</td>\n",
       "      <td>90</td>\n",
       "      <td>68</td>\n",
       "      <td>71</td>\n",
       "      <td>85</td>\n",
       "      <td>95</td>\n",
       "      <td>88</td>\n",
       "      <td>89</td>\n",
       "      <td>90</td>\n",
       "      <td>74</td>\n",
       "      <td>85</td>\n",
       "    </tr>\n",
       "    <tr>\n",
       "      <th>2</th>\n",
       "      <td>Neymar</td>\n",
       "      <td>Brazil</td>\n",
       "      <td>LW</td>\n",
       "      <td>LW</td>\n",
       "      <td>174</td>\n",
       "      <td>68</td>\n",
       "      <td>Right</td>\n",
       "      <td>25</td>\n",
       "      <td>High / Medium</td>\n",
       "      <td>5</td>\n",
       "      <td>...</td>\n",
       "      <td>96</td>\n",
       "      <td>61</td>\n",
       "      <td>62</td>\n",
       "      <td>78</td>\n",
       "      <td>89</td>\n",
       "      <td>77</td>\n",
       "      <td>79</td>\n",
       "      <td>84</td>\n",
       "      <td>81</td>\n",
       "      <td>83</td>\n",
       "    </tr>\n",
       "    <tr>\n",
       "      <th>3</th>\n",
       "      <td>Luis Suárez</td>\n",
       "      <td>Uruguay</td>\n",
       "      <td>LS</td>\n",
       "      <td>ST</td>\n",
       "      <td>182</td>\n",
       "      <td>85</td>\n",
       "      <td>Right</td>\n",
       "      <td>30</td>\n",
       "      <td>High / Medium</td>\n",
       "      <td>4</td>\n",
       "      <td>...</td>\n",
       "      <td>86</td>\n",
       "      <td>69</td>\n",
       "      <td>77</td>\n",
       "      <td>87</td>\n",
       "      <td>94</td>\n",
       "      <td>86</td>\n",
       "      <td>86</td>\n",
       "      <td>84</td>\n",
       "      <td>85</td>\n",
       "      <td>88</td>\n",
       "    </tr>\n",
       "    <tr>\n",
       "      <th>4</th>\n",
       "      <td>Manuel Neuer</td>\n",
       "      <td>Germany</td>\n",
       "      <td>GK</td>\n",
       "      <td>GK</td>\n",
       "      <td>193</td>\n",
       "      <td>92</td>\n",
       "      <td>Right</td>\n",
       "      <td>31</td>\n",
       "      <td>Medium / Medium</td>\n",
       "      <td>4</td>\n",
       "      <td>...</td>\n",
       "      <td>52</td>\n",
       "      <td>78</td>\n",
       "      <td>25</td>\n",
       "      <td>25</td>\n",
       "      <td>13</td>\n",
       "      <td>16</td>\n",
       "      <td>14</td>\n",
       "      <td>11</td>\n",
       "      <td>47</td>\n",
       "      <td>11</td>\n",
       "    </tr>\n",
       "    <tr>\n",
       "      <th>...</th>\n",
       "      <td>...</td>\n",
       "      <td>...</td>\n",
       "      <td>...</td>\n",
       "      <td>...</td>\n",
       "      <td>...</td>\n",
       "      <td>...</td>\n",
       "      <td>...</td>\n",
       "      <td>...</td>\n",
       "      <td>...</td>\n",
       "      <td>...</td>\n",
       "      <td>...</td>\n",
       "      <td>...</td>\n",
       "      <td>...</td>\n",
       "      <td>...</td>\n",
       "      <td>...</td>\n",
       "      <td>...</td>\n",
       "      <td>...</td>\n",
       "      <td>...</td>\n",
       "      <td>...</td>\n",
       "      <td>...</td>\n",
       "      <td>...</td>\n",
       "    </tr>\n",
       "    <tr>\n",
       "      <th>17583</th>\n",
       "      <td>Adam Dunbar</td>\n",
       "      <td>Republic of Ireland</td>\n",
       "      <td>NaN</td>\n",
       "      <td>Sub</td>\n",
       "      <td>183</td>\n",
       "      <td>82</td>\n",
       "      <td>Right</td>\n",
       "      <td>19</td>\n",
       "      <td>Medium / Medium</td>\n",
       "      <td>1</td>\n",
       "      <td>...</td>\n",
       "      <td>27</td>\n",
       "      <td>56</td>\n",
       "      <td>14</td>\n",
       "      <td>16</td>\n",
       "      <td>13</td>\n",
       "      <td>13</td>\n",
       "      <td>11</td>\n",
       "      <td>13</td>\n",
       "      <td>15</td>\n",
       "      <td>12</td>\n",
       "    </tr>\n",
       "    <tr>\n",
       "      <th>17584</th>\n",
       "      <td>Dylan McGoey</td>\n",
       "      <td>Republic of Ireland</td>\n",
       "      <td>NaN</td>\n",
       "      <td>Sub</td>\n",
       "      <td>185</td>\n",
       "      <td>80</td>\n",
       "      <td>Right</td>\n",
       "      <td>19</td>\n",
       "      <td>Medium / Medium</td>\n",
       "      <td>2</td>\n",
       "      <td>...</td>\n",
       "      <td>28</td>\n",
       "      <td>53</td>\n",
       "      <td>12</td>\n",
       "      <td>17</td>\n",
       "      <td>12</td>\n",
       "      <td>11</td>\n",
       "      <td>12</td>\n",
       "      <td>13</td>\n",
       "      <td>16</td>\n",
       "      <td>12</td>\n",
       "    </tr>\n",
       "    <tr>\n",
       "      <th>17585</th>\n",
       "      <td>Tommy Ouldridge</td>\n",
       "      <td>England</td>\n",
       "      <td>NaN</td>\n",
       "      <td>Res</td>\n",
       "      <td>173</td>\n",
       "      <td>61</td>\n",
       "      <td>Right</td>\n",
       "      <td>18</td>\n",
       "      <td>High / Medium</td>\n",
       "      <td>2</td>\n",
       "      <td>...</td>\n",
       "      <td>54</td>\n",
       "      <td>61</td>\n",
       "      <td>41</td>\n",
       "      <td>44</td>\n",
       "      <td>28</td>\n",
       "      <td>42</td>\n",
       "      <td>35</td>\n",
       "      <td>36</td>\n",
       "      <td>42</td>\n",
       "      <td>37</td>\n",
       "    </tr>\n",
       "    <tr>\n",
       "      <th>17586</th>\n",
       "      <td>Mark Foden</td>\n",
       "      <td>Scotland</td>\n",
       "      <td>NaN</td>\n",
       "      <td>Sub</td>\n",
       "      <td>180</td>\n",
       "      <td>80</td>\n",
       "      <td>Right</td>\n",
       "      <td>21</td>\n",
       "      <td>Medium / Medium</td>\n",
       "      <td>3</td>\n",
       "      <td>...</td>\n",
       "      <td>34</td>\n",
       "      <td>48</td>\n",
       "      <td>15</td>\n",
       "      <td>23</td>\n",
       "      <td>14</td>\n",
       "      <td>12</td>\n",
       "      <td>13</td>\n",
       "      <td>12</td>\n",
       "      <td>24</td>\n",
       "      <td>12</td>\n",
       "    </tr>\n",
       "    <tr>\n",
       "      <th>17587</th>\n",
       "      <td>Barry Richardson</td>\n",
       "      <td>England</td>\n",
       "      <td>NaN</td>\n",
       "      <td>Sub</td>\n",
       "      <td>185</td>\n",
       "      <td>77</td>\n",
       "      <td>Right</td>\n",
       "      <td>47</td>\n",
       "      <td>Medium / Medium</td>\n",
       "      <td>2</td>\n",
       "      <td>...</td>\n",
       "      <td>38</td>\n",
       "      <td>51</td>\n",
       "      <td>12</td>\n",
       "      <td>13</td>\n",
       "      <td>11</td>\n",
       "      <td>16</td>\n",
       "      <td>12</td>\n",
       "      <td>11</td>\n",
       "      <td>22</td>\n",
       "      <td>12</td>\n",
       "    </tr>\n",
       "  </tbody>\n",
       "</table>\n",
       "<p>17588 rows × 39 columns</p>\n",
       "</div>"
      ],
      "text/plain": [
       "                    Name          Nationality National_Position Club_Position  \\\n",
       "0      Cristiano Ronaldo             Portugal                LS            LW   \n",
       "1           Lionel Messi            Argentina                RW            RW   \n",
       "2                 Neymar               Brazil                LW            LW   \n",
       "3            Luis Suárez              Uruguay                LS            ST   \n",
       "4           Manuel Neuer              Germany                GK            GK   \n",
       "...                  ...                  ...               ...           ...   \n",
       "17583        Adam Dunbar  Republic of Ireland               NaN           Sub   \n",
       "17584       Dylan McGoey  Republic of Ireland               NaN           Sub   \n",
       "17585    Tommy Ouldridge              England               NaN           Res   \n",
       "17586         Mark Foden             Scotland               NaN           Sub   \n",
       "17587   Barry Richardson              England               NaN           Sub   \n",
       "\n",
       "       Height  Weight Preffered_Foot  Age        Work_Rate  Weak_foot  ...  \\\n",
       "0         185      80          Right   32       High / Low          4  ...   \n",
       "1         170      72           Left   29  Medium / Medium          4  ...   \n",
       "2         174      68          Right   25    High / Medium          5  ...   \n",
       "3         182      85          Right   30    High / Medium          4  ...   \n",
       "4         193      92          Right   31  Medium / Medium          4  ...   \n",
       "...       ...     ...            ...  ...              ...        ...  ...   \n",
       "17583     183      82          Right   19  Medium / Medium          1  ...   \n",
       "17584     185      80          Right   19  Medium / Medium          2  ...   \n",
       "17585     173      61          Right   18    High / Medium          2  ...   \n",
       "17586     180      80          Right   21  Medium / Medium          3  ...   \n",
       "17587     185      77          Right   47  Medium / Medium          2  ...   \n",
       "\n",
       "       Agility  Jumping  Heading  Shot_Power  Finishing  Long_Shots  Curve  \\\n",
       "0           90       95       85          92         93          90     81   \n",
       "1           90       68       71          85         95          88     89   \n",
       "2           96       61       62          78         89          77     79   \n",
       "3           86       69       77          87         94          86     86   \n",
       "4           52       78       25          25         13          16     14   \n",
       "...        ...      ...      ...         ...        ...         ...    ...   \n",
       "17583       27       56       14          16         13          13     11   \n",
       "17584       28       53       12          17         12          11     12   \n",
       "17585       54       61       41          44         28          42     35   \n",
       "17586       34       48       15          23         14          12     13   \n",
       "17587       38       51       12          13         11          16     12   \n",
       "\n",
       "       Freekick_Accuracy  Penalties  Volleys  \n",
       "0                     76         85       88  \n",
       "1                     90         74       85  \n",
       "2                     84         81       83  \n",
       "3                     84         85       88  \n",
       "4                     11         47       11  \n",
       "...                  ...        ...      ...  \n",
       "17583                 13         15       12  \n",
       "17584                 13         16       12  \n",
       "17585                 36         42       37  \n",
       "17586                 12         24       12  \n",
       "17587                 11         22       12  \n",
       "\n",
       "[17588 rows x 39 columns]"
      ]
     },
     "execution_count": 3,
     "metadata": {},
     "output_type": "execute_result"
    }
   ],
   "source": [
    "df_players = pd.read_csv('stats_players.csv')\n",
    "df_players"
   ]
  },
  {
   "cell_type": "markdown",
   "metadata": {
    "cell_id": "9e9e7d5dbc2f420ba40afb038a3c7b37",
    "deepnote_cell_height": 169.93333435058594,
    "deepnote_cell_type": "markdown",
    "id": "2R3b7Qe501t5",
    "owner_user_id": "d50c3174-babb-4861-9c71-7e3af66458b8"
   },
   "source": [
    "## 1.1 Predicción de Seleccionados Nacionales \n",
    "\n",
    "Como primera tarea, Renacín, intrigado por la posibilidad de saber qué tan reconocido es un jugador, le consulta a su equipo si es posible predecir si un jugador será o no seleccionado nacional a partir de sus estadísticas en el juego. \n",
    "\n",
    "<p align=\"center\">\n",
    "  <img src=\"https://thumbs.gfycat.com/ThornyFrankFoxhound-size_restricted.gif\" width=\"500\">\n",
    "</p>"
   ]
  },
  {
   "cell_type": "markdown",
   "metadata": {
    "cell_id": "4fd0ec6793474c6e8dd304827ef35c74",
    "deepnote_cell_height": 158.3333282470703,
    "deepnote_cell_type": "markdown",
    "id": "PIe_Ha58pQRC"
   },
   "source": [
    "### 1.1.1 Generación de Labels para la Clasificación [Sin Puntaje]\n",
    "\n",
    "\n",
    "Primero comience generando las labels para la clasificación. Para esto, trabaje sobre el atributo ```National_Position``` suponiendo que los valores nulos son jugadores no seleccionados para representar a su país. \n",
    "\n",
    "Hecho esto, ¿Cuantos ejemplos por cada clase se tienen? Comente lo que observa.\n",
    "\n"
   ]
  },
  {
   "cell_type": "markdown",
   "metadata": {
    "cell_id": "4bafb6f1da424f84be4eceb20d100d91",
    "deepnote_cell_height": 51.53334045410156,
    "deepnote_cell_type": "markdown",
    "tags": []
   },
   "source": [
    "**Respuesta:**"
   ]
  },
  {
   "cell_type": "code",
   "execution_count": 4,
   "metadata": {
    "cell_id": "c95e6cb3ab91410fb2151acbdc068908",
    "deepnote_cell_height": 80.13333129882812,
    "deepnote_cell_type": "code",
    "deepnote_to_be_reexecuted": false,
    "execution_millis": 3,
    "execution_start": 1636741171250,
    "id": "uwKaIuho4lqn",
    "source_hash": "43ce1981"
   },
   "outputs": [],
   "source": [
    "labels = df_players[\"National_Position\"].isna().apply(lambda X: \"No seleccionado\" if X else \"Seleccionado\")"
   ]
  },
  {
   "cell_type": "code",
   "execution_count": 5,
   "metadata": {},
   "outputs": [
    {
     "data": {
      "text/plain": [
       "No seleccionado    16513\n",
       "Seleccionado        1075\n",
       "Name: National_Position, dtype: int64"
      ]
     },
     "execution_count": 5,
     "metadata": {},
     "output_type": "execute_result"
    }
   ],
   "source": [
    "labels.value_counts()"
   ]
  },
  {
   "cell_type": "code",
   "execution_count": 6,
   "metadata": {},
   "outputs": [
    {
     "data": {
      "text/plain": [
       "No seleccionado    0.938879\n",
       "Seleccionado       0.061121\n",
       "Name: National_Position, dtype: float64"
      ]
     },
     "execution_count": 6,
     "metadata": {},
     "output_type": "execute_result"
    }
   ],
   "source": [
    "labels.value_counts()/labels.shape[0]"
   ]
  },
  {
   "cell_type": "markdown",
   "metadata": {},
   "source": [
    "Vemos que **la gran mayoría** de los jugadores no son seleccionados nacionales. En total, sólo **1075** son seleccionados, representando a un 6.1% de los jugadores de la tabla, mientras que **16513** jugadores (93.9%) no son seleccionados."
   ]
  },
  {
   "cell_type": "markdown",
   "metadata": {
    "cell_id": "882716f31dd4415983e3ed8e403ddcf0",
    "deepnote_cell_height": 678.1500244140625,
    "deepnote_cell_type": "markdown",
    "id": "0F70XPRFpWH9"
   },
   "source": [
    "### 1.1.2 Camino a la clasificación [1 punto]\n",
    "\n",
    "<p align=\"center\">\n",
    "  <img src=\"https://c.tenor.com/SoXZJHWnhKAAAAAC/pitbull-medel.gif\" width=\"500\">\n",
    "</p>\n",
    "\n",
    "Para preprocesar el dataset, genere un `ColumnTransformer` en donde especifique las transformaciones que hay que realizar para cada columna (por ejemplo StandarScaler, MinMaxScaler, OneHotEncoder, etc...) para que puedan ser utilizadas correctamente por el modelo predictivo y guardelo en algúna variable.\n",
    "\n",
    "Luego, comente y justifique las transformaciones elegidas sobre cada una de las variables (para esto utilice el material ```Player_Stats_Report.html``` que viene en el zip del lab), al igual que las transformaciones aplicadas.\n",
    "\n",
    "Hecho lo anterior, **defina al menos 3 pipelines para la clasificación**, en donde utilice el mismo ColumnTransformer definido anteriormente, pero que varie entre cada pipeline los clasificadores. \n",
    "\n",
    "Para seleccionar los clasificadores más adecuados, utilice la siguiente guía:\n",
    "\n",
    "<p align=\"center\">\n",
    "  <img src=\"https://scikit-learn.org/stable/_static/ml_map.png\" width=\"500\">\n",
    "</p>\n",
    "\n",
    "<br/>\n",
    "\n",
    "Con ella, comente y justifique cada una de las decisiones tomadas al momento de desarrollar su pipeline.\n",
    "\n",
    "**Nota:** Si tiene problemas al utilizar OneHotEncoder puede utilizar el parámetro handle_unknown='ignore'. Esto hace que en la codificación se omitan las categorias que no aparecen en el entrenamiento. Pregunta dudosa (no tiene puntaje), ¿esto tiene sentido a nivel de modelos?.\n",
    "\n",
    "**To-Do:**\n",
    "\n",
    "- [ ] Genere un ```ColumnTransformer``` enfocado en preprocesar los datos.\n",
    "- [ ] Indicar y Justificar que preprocesamiento utiliza sobre cada columna.\n",
    "- [ ] Crear 3 ``pipelines`` con diferentes clasificadores.\n",
    "- [ ] Para seleccionar los clasificadores base sus decisiones en la siguiente [guía](https://scikit-learn.org/stable/tutorial/machine_learning_map/index.html)\n",
    "- [ ] No entrenar los ``pipelines`` aún.\n",
    "\n",
    "**Nota:** No es necesario entrenar los clasificadores aún."
   ]
  },
  {
   "cell_type": "markdown",
   "metadata": {
    "cell_id": "494effcc7471436084ebd22e15296fb9",
    "deepnote_cell_height": 51.53334045410156,
    "deepnote_cell_type": "markdown",
    "tags": []
   },
   "source": [
    "**Respuesta:**"
   ]
  },
  {
   "cell_type": "markdown",
   "metadata": {},
   "source": [
    "Para construir el column transformer de los valores numéricos exploramos las distribuciones mediante boxplots. Si en las distribuciones hay outliers muy alejados que dominan la escala de valores del atributo, entonces el escalamiento podría ser problemático."
   ]
  },
  {
   "cell_type": "code",
   "execution_count": 7,
   "metadata": {},
   "outputs": [
    {
     "data": {
      "text/plain": [
       "<AxesSubplot:>"
      ]
     },
     "execution_count": 7,
     "metadata": {},
     "output_type": "execute_result"
    },
    {
     "data": {
      "image/png": "[encoded data removed]",
      "text/plain": [
       "<Figure size 640x480 with 1 Axes>"
      ]
     },
     "metadata": {},
     "output_type": "display_data"
    }
   ],
   "source": [
    "df_players.boxplot(rot = 90)"
   ]
  },
  {
   "cell_type": "markdown",
   "metadata": {},
   "source": [
    "Vemos que en la mayoría de las escalas no hay outliers importantes. Revisamos en detalle Weak foot y Skill moves en el .html y vemos que son sólo 5 valores posibles por lo que no hay grandes outliers. De esta forma y como la mayoría de los atributos numéricos son puntajes del 0 al 100, uitilizaremos minmax scaler. Esto también para que queden en la misma escala que one hot encoding.\n",
    "\n",
    "Para los atributos categóricos utilizaremos one hot encoding. Exploramos las variables categóricas."
   ]
  },
  {
   "cell_type": "code",
   "execution_count": 8,
   "metadata": {},
   "outputs": [
    {
     "data": {
      "text/plain": [
       "Name                 17341\n",
       "Nationality            160\n",
       "National_Position       28\n",
       "Club_Position           30\n",
       "Preffered_Foot           2\n",
       "Work_Rate                9\n",
       "dtype: int64"
      ]
     },
     "execution_count": 8,
     "metadata": {},
     "output_type": "execute_result"
    }
   ],
   "source": [
    "df_players.select_dtypes(exclude = np.number).apply(lambda X: len(set(X)))"
   ]
  },
  {
   "cell_type": "markdown",
   "metadata": {},
   "source": [
    "Nos percatamos que no tiene sentido transformar 'Name' ya que son identificadores de jugador (casi únicos). También excluiremos la columna 'National_Position' ya que fue construida para obtener el target.\n",
    "\n",
    "Agregamos el argumento *handle_unknowns = 'ignore'* para no considerar categorías que aparezcan en transform que no estaban en el momento de hacer fit. Esto tiene sentido si se realiza train test split, ya que algunas columnas como nacionalidad tienen tantos valores distintos que es posible que alguno de ellos no aparezca en el conjunto de entrenamiento."
   ]
  },
  {
   "cell_type": "code",
   "execution_count": 9,
   "metadata": {},
   "outputs": [],
   "source": [
    "columns_numeric = df_players.select_dtypes(np.number).columns\n",
    "columns_categoric = df_players.select_dtypes(\n",
    "    exclude = np.number).columns.difference([\"Name\", \"National_Position\"])"
   ]
  },
  {
   "cell_type": "code",
   "execution_count": 10,
   "metadata": {
    "cell_id": "9613cb3a57754abc878dab6589262090",
    "deepnote_cell_height": 65.13333129882812,
    "deepnote_cell_type": "code",
    "tags": []
   },
   "outputs": [],
   "source": [
    "ct = ColumnTransformer([\n",
    "    (\"MinMax\", MinMaxScaler(), columns_numeric),\n",
    "    (\"OneHot\", OneHotEncoder(handle_unknown = \"ignore\"), columns_categoric),\n",
    "])\n"
   ]
  },
  {
   "cell_type": "markdown",
   "metadata": {},
   "source": [
    "Luego, creamos los pipelines para entrenar el modelo. Al ver la guía, nos percatamos que como queremos predecir una **categoría** de la cual **poseemos la etiqueta**, entonces entramos en el área de la **clasificación** (aprendizaje supervizado).\n",
    "\n",
    "> Observamos que la guía nos recomienda elegir clasificadores de acuerdo a las características del dataset y según si funcionaron o no, de manera que si la seguimos al pie de la letra podríamos elegir sólo un clasificador. Así, ignoraremos algunas de las reglas para generar pipelines con 3 clasificadores. En una primera mirada, vemos que no se encuentra *nuestro viejo amigo random forest* (uno de los mejores clasificadores) y que la grandiosa regresión logística está delegada a la categoría genérica `SGD classifier`.\n",
    "\n",
    "Al tener menos de 100 000 filas, la guía nos recomienda comenzar con SVC lineal que es el clasificador basado en **Support Vector Machines**. Esto, ya que es uno de los clasificadores con mejor desempeño cuyo principal problema es que toma más tiempo en entrenar que otros clasificadores, por lo que si el volumen de datos no es demasiado grande es factible de utilizar. Utilizamos el regularizador `C=1` por defecto de SVM. Elegimos un kernel lineal ya que es la recomendación de la guía."
   ]
  },
  {
   "cell_type": "code",
   "execution_count": 11,
   "metadata": {},
   "outputs": [],
   "source": [
    "from sklearn.svm import SVC\n",
    "\n",
    "pipeline_svm = Pipeline([\n",
    "    (\"preprocesamiento\", ct),\n",
    "    (\"svm\", SVC(kernel ='linear'))\n",
    "])"
   ]
  },
  {
   "cell_type": "markdown",
   "metadata": {},
   "source": [
    "Luego, la guía nos recomienda pasar a **KNN** ya que no contamos con datos de texto. Sin embargo, KNN sufre inmensamente de la maldición de la dimensionalidad y de tener muchas filas. Sería conveniente sólo utilizar algunas variables continuas, pero como debemos utilizar el mismo column transformer, ignoramos la guía y optamos por **Naive Bayes**.\n",
    "\n",
    "Para aplicarlo correctamente, se debería por separado entrenar las variables numéricas y las categóricas y luego multiplicar las probabilidades para obtener la predicción. Pero esto requiere de muchos pasos y definir clases custom, lo cual es trabajo innecesario. Como Naive Bayes *no se hace problemas y funciona igual* si le pasamos las variables categóricas en la forma one hot encoding y asumimos distribución Gaussiana, procedemos. Agregamos la función toarray() para tratar los datos como una matriz real para poder usar el clasificador."
   ]
  },
  {
   "cell_type": "code",
   "execution_count": 12,
   "metadata": {},
   "outputs": [],
   "source": [
    "from sklearn.naive_bayes import GaussianNB\n",
    "from sklearn.base import BaseEstimator, TransformerMixin\n",
    "\n",
    "class UnSparce(BaseEstimator, TransformerMixin):\n",
    "    def fit(self, X, y=None):\n",
    "        return self\n",
    "    def transform(self, X):\n",
    "        return X.toarray()\n",
    "\n",
    "pipeline_nb = Pipeline([\n",
    "    (\"preprocesamiento\", ct),\n",
    "    (\"unsparce\", UnSparce()),\n",
    "    (\"knn\", GaussianNB())\n",
    "])"
   ]
  },
  {
   "cell_type": "markdown",
   "metadata": {},
   "source": [
    "Finalmente, la guía nos recomienda usar SVM no lineal, pero como ya usamos SVM nos iremos al maravilloso mundo de los clasificadores entrenados mediante SGD, ignorando la recomendación de usarlos si tenemos más de 100 000 filas. Específicamente, usaremos **Regresión Logística**, el cual si bien no es tan preciso como SVM, podría ser más generalizable al depender de todos los datos en vez de sólo los datos cercanos al límite de decisión (support vectors). Al igual que el resto, *funciona igual* al pasarle variables categóricas en formato one hot encoding. Aumentamos max_iter para permitir que llegue a una solución."
   ]
  },
  {
   "cell_type": "code",
   "execution_count": 13,
   "metadata": {},
   "outputs": [],
   "source": [
    "from sklearn.linear_model import LogisticRegression\n",
    "\n",
    "pipeline_logreg = Pipeline([\n",
    "    (\"preprocesamiento\", ct),\n",
    "    (\"logreg\", LogisticRegression(max_iter = 500))\n",
    "])"
   ]
  },
  {
   "cell_type": "markdown",
   "metadata": {
    "cell_id": "b7fa6937d9a043fd93b7966fb0e81861",
    "deepnote_cell_height": 101.13333129882812,
    "deepnote_cell_type": "markdown",
    "id": "MpKq6oO3vCNL"
   },
   "source": [
    "### 1.1.3 Entrenemos los pipelines [1 punto]\n",
    "\n",
    "<p align=\"center\">\n",
    "  <img src=\"https://i.gifer.com/7Cc8.gif\" width=\"350\">\n",
    "</p>\n"
   ]
  },
  {
   "cell_type": "markdown",
   "metadata": {
    "cell_id": "5ead21d7e26d4e3da1486c9937f22968",
    "deepnote_cell_height": 454.433349609375,
    "deepnote_cell_type": "markdown",
    "id": "wE_1aZaIvOeN"
   },
   "source": [
    "Ahora, entrene los `pipeline` generados en los pasos anteriores. Para esto, primero separe los datos de entrenamiento en un conjunto de entrenamiento y de prueba  (la proporción queda a su juicio).\n",
    "\n",
    "En este paso, seleccione los ejemplos de forma aleatoria e intente mantener la distribución original de labels de cada clase en los conjuntos de prueba/entrenamiento. (vea la documentación de `train_test_split`).\n",
    "\n",
    "\n",
    "Luego, entrene los pipelines\n",
    "\n",
    "Una vez entrenado su modelo, evalue su rendimiento a través de diferentes métricas, comentando que significa cada uno de los valores obtenidos. Puede usar la función `classification_report` para corroborar sus resultados.\n",
    "\n",
    "- ¿Qué implican los valores de accuracy, precisión y recall de la clase positiva (la que indica que un jugador es seleccionado nacional)?\n",
    "- ¿Podrían mejorarse los resultados?, ¿Cómo?\n",
    "- ¿Influye la cantidad de ejemplos por clase?\n",
    "\n",
    "**To-Do**:\n",
    "\n",
    "- [ ] Separar el conjunto de datos en entrenamiento y de prueba.\n",
    "- [ ] Entrenar los `pipelines`.\n",
    "- [ ] Utilizar las métricas para evaluar los modelos generados.\n"
   ]
  },
  {
   "cell_type": "markdown",
   "metadata": {
    "cell_id": "053a95315e3245b39ba9d263d932e7d4",
    "deepnote_cell_height": 51.53334045410156,
    "deepnote_cell_type": "markdown",
    "tags": []
   },
   "source": [
    "Para mantener una distribución estratificada de las etiquetas de cada clase se utilizó el argumento `stratify = labels`."
   ]
  },
  {
   "cell_type": "code",
   "execution_count": 14,
   "metadata": {
    "cell_id": "0148b8e4a7e24b838381dbee30b31758",
    "deepnote_cell_height": 65.13333129882812,
    "deepnote_cell_type": "code",
    "tags": []
   },
   "outputs": [],
   "source": [
    "X = df_players.drop(columns=['National_Position'])\n",
    "\n",
    "X_train, X_test, y_train, y_test = train_test_split(\n",
    "    X, \n",
    "    labels, \n",
    "    test_size=0.30,\n",
    "    random_state=86, \n",
    "    shuffle=True, \n",
    "    stratify=labels\n",
    ")"
   ]
  },
  {
   "cell_type": "code",
   "execution_count": 15,
   "metadata": {},
   "outputs": [],
   "source": [
    "players_svm = pipeline_svm.fit(X_train, y_train)\n",
    "players_nb = pipeline_nb.fit(X_train, y_train)\n",
    "players_logreg = pipeline_logreg.fit(X_train, y_train)"
   ]
  },
  {
   "cell_type": "code",
   "execution_count": 16,
   "metadata": {},
   "outputs": [],
   "source": [
    "y_svm = players_svm.predict(X_test)\n",
    "y_nb = players_nb.predict(X_test)\n",
    "y_logreg = players_logreg.predict(X_test)"
   ]
  },
  {
   "cell_type": "markdown",
   "metadata": {},
   "source": [
    "### Support Vector Machine"
   ]
  },
  {
   "cell_type": "code",
   "execution_count": 17,
   "metadata": {
    "scrolled": false
   },
   "outputs": [
    {
     "name": "stdout",
     "output_type": "stream",
     "text": [
      "                 precision    recall  f1-score   support\n",
      "\n",
      "No seleccionado       0.95      0.99      0.97      4954\n",
      "   Seleccionado       0.64      0.15      0.25       323\n",
      "\n",
      "       accuracy                           0.94      5277\n",
      "      macro avg       0.80      0.57      0.61      5277\n",
      "   weighted avg       0.93      0.94      0.93      5277\n",
      "\n"
     ]
    }
   ],
   "source": [
    "print(classification_report(y_test, y_svm))"
   ]
  },
  {
   "cell_type": "code",
   "execution_count": 18,
   "metadata": {},
   "outputs": [
    {
     "name": "stdout",
     "output_type": "stream",
     "text": [
      "323\n",
      "[[4927   27]\n",
      " [ 274   49]]\n"
     ]
    }
   ],
   "source": [
    "print(y_test[y_test == \"Seleccionado\"].count())\n",
    "print(confusion_matrix(y_test, y_svm))"
   ]
  },
  {
   "cell_type": "markdown",
   "metadata": {},
   "source": [
    "### Naive Bayes"
   ]
  },
  {
   "cell_type": "code",
   "execution_count": 19,
   "metadata": {
    "scrolled": true
   },
   "outputs": [
    {
     "name": "stdout",
     "output_type": "stream",
     "text": [
      "                 precision    recall  f1-score   support\n",
      "\n",
      "No seleccionado       1.00      0.18      0.31      4954\n",
      "   Seleccionado       0.07      1.00      0.14       323\n",
      "\n",
      "       accuracy                           0.23      5277\n",
      "      macro avg       0.54      0.59      0.22      5277\n",
      "   weighted avg       0.94      0.23      0.30      5277\n",
      "\n"
     ]
    }
   ],
   "source": [
    "print(classification_report(y_test, y_nb))"
   ]
  },
  {
   "cell_type": "code",
   "execution_count": 20,
   "metadata": {
    "scrolled": true
   },
   "outputs": [
    {
     "name": "stdout",
     "output_type": "stream",
     "text": [
      "[[ 902 4052]\n",
      " [   0  323]]\n"
     ]
    }
   ],
   "source": [
    "print(confusion_matrix(y_test, y_nb))"
   ]
  },
  {
   "cell_type": "markdown",
   "metadata": {},
   "source": [
    "### Logistic regression"
   ]
  },
  {
   "cell_type": "code",
   "execution_count": 21,
   "metadata": {
    "scrolled": false
   },
   "outputs": [
    {
     "name": "stdout",
     "output_type": "stream",
     "text": [
      "                 precision    recall  f1-score   support\n",
      "\n",
      "No seleccionado       0.95      0.99      0.97      4954\n",
      "   Seleccionado       0.64      0.25      0.36       323\n",
      "\n",
      "       accuracy                           0.95      5277\n",
      "      macro avg       0.80      0.62      0.67      5277\n",
      "   weighted avg       0.93      0.95      0.93      5277\n",
      "\n"
     ]
    }
   ],
   "source": [
    "print(classification_report(y_test, y_logreg))"
   ]
  },
  {
   "cell_type": "code",
   "execution_count": 22,
   "metadata": {},
   "outputs": [
    {
     "name": "stdout",
     "output_type": "stream",
     "text": [
      "[[4908   46]\n",
      " [ 242   81]]\n"
     ]
    }
   ],
   "source": [
    "print(confusion_matrix(y_test, y_logreg))"
   ]
  },
  {
   "cell_type": "markdown",
   "metadata": {
    "cell_id": "2e9c35fbe33d4a38bfdf6af6de3022f3",
    "deepnote_cell_height": 106.33332824707031,
    "deepnote_cell_type": "markdown",
    "id": "QgSeo0aIx9ow"
   },
   "source": [
    "**Respuesta**\n",
    "\n",
    "Como sabemos que *precision* es la fracción de ejemplos correctamente predichos como clase positiva `Seleccionado` con respecto a todos los predichos como `Seleccionado` $\\frac{TP}{TP + FP}$ (y lo mismo para la clase negativa `No seleccionado`). La métrica *recall* es la fracción de ejemplos positivos que son correctamente clasificados $\\frac{TP}{TP + FN}$. El *F1-Score* combina la métrica *precision y recall* utilizando una media armónica $\\frac{2*\\text{precision * recall}}{precision + recall}$, y con esto en mente se analizarán los resultados obtenidos.\n",
    "\n",
    "\n",
    "Para los distintos modelos entrenados se tiene:\n",
    "- Support Vector Machine: Analizando las métricas y la matriz de confusión, vemos como la métrica *precision* alcanza un 64% para nuestra clase positiva, es decir, de 323 Seleccionados Nacionales nuestro modelo predice 279 correctamente. Si nos fijamos en todos los jugadores que deberían haber sido clasificados como `Seleccionados` Nacionales (*recall*), tenemos como resultado que tan solo un 15% de los jugadores `Seleccionados` fue correctamente clasificado. De todas formas, al observar el *F1-Score* para la clase positiva, volvemos a confirmar que el modelo **NO** logra realizar buenas predicciones para los jugadores `Seleccionados`, no así para aquellos `No seleccionados`, que para todas las métricas anteriores logran valores mayor o igual al 95%.\n",
    "\n",
    "- Naive Bayes: Para Naive Bayes ocurre algo interesante. Si analizamos el reporte de métricas, vemos como *precision* tan solo alcanza el 7% para la clase positiva, es decir, el modelo predijo que habían 4375 Seleccionados nacionales, cuando solo hay 323 correctamente clasificados. Por otra parte, el *recall* para la clase positiva llega al 100%, pero claro, si observamos el *F1-Score* vemos que tanto para la clase positiva y negativa se obtienen valores bajos, esto principalmente se deber por las grandes diferencias entre *precision y recall*.\n",
    "\n",
    "- Logistic Regression: Nótese que las métricas *precision y recall* del modelo `Logistic Regression` son similares a las del modelo `SVM`, con la diferencia que este modelo clasifica correctamente a más jugadores que son **seleccionados nacionales**. \n",
    "\n",
    "\n",
    "Finalmente, si comparamos la métrica *F1-Score* entre todos los modelos, vemos que para `Logistic Regression` se obtienen \"mejores\" resultados, aún así, ninguno modelos es capaz de realizar buenas predicciones, y esto se debe a la gran diferencia entre clases, ya que la gran mayoría de los jugadores **no son** seleccionados nacionales (solo un 6% sí lo es).\n",
    "\n",
    "\n",
    "Una forma para intentar mejorar los resultados sería aplicando OverSampling, así se podría balancear la clase minoritaria hasta igualar la clase `No Seleccionado`. Otra forma interesante de solucionar este problema sería combinando OverSampling y *bagging* (*Ensemble methods*), así tendríamos una serie de estimadores que nos ayudarían a generalizar y tener mayor robustez a la hora de realizar las predicciones. \n"
   ]
  },
  {
   "cell_type": "markdown",
   "metadata": {
    "cell_id": "5aa0cc14dba04749ad3bc07a92d351d2",
    "deepnote_cell_type": "markdown",
    "id": "ix97Ho4uOARH"
   },
   "source": [
    "## 1.2 Predicción de posiciones de jugadores [2 puntos]\n",
    "\n",
    "<p align=\"center\">\n",
    "  <img src=\"https://pbs.twimg.com/media/E1rfA1aWEAYU6Ny.jpg\" width=\"500\">\n",
    "</p>"
   ]
  },
  {
   "cell_type": "markdown",
   "metadata": {
    "cell_id": "6cd2eee12b6147bc8eba66af43a1f1f7",
    "deepnote_cell_type": "markdown",
    "id": "oHAwZfV8hMsk"
   },
   "source": [
    "En una nueva jornada de desmesuradas transacciones deportivas, Renacín escuchó a sus colegas discutir acerca de que el precio de cada jugador depende en gran medida de la posición en la cancha en la que juega. Y además, que hay bastantes jugadores nuevos que no tienen muy claro en que posición verdaderamente brillarían, por lo que actualmente puede que actualmente estén jugando en posiciones sub-optimas. \n",
    "\n",
    "Viendo que los resultados del primer análisis no son tan esperanzadores, el corporeo los comanda a cambiar su tarea: ahora, les solicita que construyan un clasificador enfocado en predecir la mejor posición de los jugadores en la cancha según sus características. \n",
    "\n",
    "Para lograr esto, primero, les pide que etiqueten de la siguiente manera los valores que aparecen en el atributo ```Club_Position```, pidiendo que agrupen los valores en los siguientes grupos:\n",
    "\n",
    "**Nota**:  Renacín les recalca que **no deben utilizar los valores ```Sub``` y ```Res``` de esta columna**.\n",
    "\n",
    "```python\n",
    "ataque = ['ST', 'CF'] \n",
    "central_ataque = ['RW', 'CAM', 'LW'] \n",
    "central = ['RM', 'CM', 'LM'] \n",
    "central_defensa = ['RWB', 'CDM', 'LWB']\n",
    "defensa = ['RB', 'CB', 'LB']\n",
    "arquero = ['GK']\n",
    "```\n",
    "\n",
    "Cabe señalar que al igual como lo realizado con la clasificación binaria, deberá justificar en base a la [guía](https://scikit-learn.org/stable/tutorial/machine_learning_map/index.html) la elección del clasificador y se deben comentar los resultados obtenidos en la clasificación.\n",
    "\n",
    "**Nota:** Clasifique solamente con las clases señaladas, si observa mas clases eliminelas de la clasficación.\n",
    "\n",
    "**To-Do**:\n",
    "\n",
    "- [ ] Aplique las etiquetas descritas anteriormente en cada uno de los valores señalados en esta sección.\n",
    "- [ ] Cuente cuantos por clase quedan.\n",
    "- [ ] Entrene el nuevo pipeline y ejecute una evaluación de este.  \n",
    "- [ ] Comente los resultados obtenidos."
   ]
  },
  {
   "cell_type": "markdown",
   "metadata": {},
   "source": [
    "**Respuesta:**\n",
    "\n",
    "Primero definimos las etiquetas para utilizarlas más adelante. Las compactaremos en un diccionario para facilitar su uso."
   ]
  },
  {
   "cell_type": "code",
   "execution_count": 23,
   "metadata": {},
   "outputs": [],
   "source": [
    "posiciones_dic = {\n",
    "    \"ataque\" : ['ST', 'CF'] ,\n",
    "    \"central_ataque\" : ['RW', 'CAM', 'LW'] ,\n",
    "    \"central\" : ['RM', 'CM', 'LM'] ,\n",
    "    \"central_defensa\" : ['RWB', 'CDM', 'LWB'],\n",
    "    \"defensa\" : ['RB', 'CB', 'LB'],\n",
    "    \"arquero\" : ['GK']\n",
    "}"
   ]
  },
  {
   "cell_type": "markdown",
   "metadata": {},
   "source": [
    "Lo formateamos de la siguiente forma para poder utilizarlo en un apply"
   ]
  },
  {
   "cell_type": "code",
   "execution_count": 24,
   "metadata": {},
   "outputs": [],
   "source": [
    "posicion_dic = {oripos:newpos for newpos in posiciones_dic for oripos in posiciones_dic[newpos]}"
   ]
  },
  {
   "cell_type": "markdown",
   "metadata": {},
   "source": [
    "Luego tenemos un diccionario que nos permite remplazar facilmente. Eliminamos del dataframe los valores 'Sub' y 'Res' y cualquier otro valor que no esté en los indicados ya que no nos sirven."
   ]
  },
  {
   "cell_type": "code",
   "execution_count": 25,
   "metadata": {},
   "outputs": [
    {
     "data": {
      "text/plain": [
       "(3939, 39)"
      ]
     },
     "execution_count": 25,
     "metadata": {},
     "output_type": "execute_result"
    }
   ],
   "source": [
    "df_clas = df_players[df_players[\"Club_Position\"].apply(lambda X: X in posicion_dic)]\n",
    "df_clas.shape"
   ]
  },
  {
   "cell_type": "markdown",
   "metadata": {},
   "source": [
    "Finalmente, del dataset limpio (sin posisiones sub, res o valores NaN) extraemos la variable objetivo."
   ]
  },
  {
   "cell_type": "code",
   "execution_count": 26,
   "metadata": {},
   "outputs": [
    {
     "data": {
      "text/plain": [
       "defensa            1180\n",
       "central             907\n",
       "arquero             632\n",
       "central_ataque      581\n",
       "ataque              430\n",
       "central_defensa     209\n",
       "Name: Club_Position, dtype: int64"
      ]
     },
     "execution_count": 26,
     "metadata": {},
     "output_type": "execute_result"
    }
   ],
   "source": [
    "target = df_clas.Club_Position.apply(lambda X: posicion_dic[X])\n",
    "target.value_counts()"
   ]
  },
  {
   "cell_type": "code",
   "execution_count": 27,
   "metadata": {},
   "outputs": [
    {
     "data": {
      "text/plain": [
       "<BarContainer object of 6 artists>"
      ]
     },
     "execution_count": 27,
     "metadata": {},
     "output_type": "execute_result"
    },
    {
     "data": {
      "image/png": "[encoded data removed]",
      "text/plain": [
       "<Figure size 800x400 with 1 Axes>"
      ]
     },
     "metadata": {},
     "output_type": "display_data"
    }
   ],
   "source": [
    "import matplotlib.pyplot as plt\n",
    "\n",
    "plt.figure(figsize = (8,4))\n",
    "plt.bar(target.value_counts().index, target.value_counts())"
   ]
  },
  {
   "cell_type": "markdown",
   "metadata": {},
   "source": [
    "Observamos que la mayoría de los jugadores oficiales (no suplentes ni en la banca) de su club son defensas, seguido de mediocampistas, arqueros y finalmente ataque. Estamos ante un caso de clases desbalanceadas, pero con un \"leve\" desbalanceo ya que hay mucho menos que un orden de magnitud entre la se más representativa y la menos representativa. De todas maneras, debemos considerar esto a la hora de evaluar el modelo.\n",
    "\n",
    "#### Elección del modelo\n",
    "\n",
    "Como estamos intentando predecir una categoría, nuestro modelo cae dentro de los modelos de **clasificación**. Al ser menos de 100 000 filas, nos recomienda utilizar **Support Vector Machines**. Sin dudarlo por un segundo ~~aunque en 1.1.3 vimos que logistic regression da mejores métricas que SV y corre más rápido, es mas limpio, interpretable, lineal, generalizable y hermoso~~, cramos un pipeline para entrenar con este clasificador.\n",
    "\n",
    "### SVM\n",
    "\n",
    "Para esto, reciclaremos el mismo pipeline realizado en 1.1.2, pero lo modificaremos para que se descarte la variable `Club_Position`, ya que con ella se construyó el target. Para esto, tenemos que rehacer el column transformer para no incluir esta columna. Mantenemos el descarte de la columna `National_Position` ya que muy probablemente está fuertemente relacionada con `Club_Position` y es \"trampa\" ya que nos interesa saber en base a **los atributos del jugador** cual podría ser su posición (y además tiene muchos NaN)."
   ]
  },
  {
   "cell_type": "code",
   "execution_count": 28,
   "metadata": {},
   "outputs": [],
   "source": [
    "columns_numeric = df_clas.select_dtypes(np.number).columns\n",
    "columns_categoric = df_clas.select_dtypes(\n",
    "    exclude = np.number).columns.difference([\"Name\", \"National_Position\", \"Seleccionado\", \"Club_Position\"])\n",
    "\n",
    "ct2 = ColumnTransformer([\n",
    "    (\"MinMax\", MinMaxScaler(), columns_numeric),\n",
    "    (\"OneHot\", OneHotEncoder(handle_unknown = \"ignore\"), columns_categoric),\n",
    "])\n",
    "\n",
    "pipeline_svm_2 = Pipeline([\n",
    "    (\"preprocesamiento\", ct2),\n",
    "    (\"svm\", SVC(kernel ='linear'))\n",
    "])"
   ]
  },
  {
   "cell_type": "markdown",
   "metadata": {},
   "source": [
    "Luego entrenamos"
   ]
  },
  {
   "cell_type": "code",
   "execution_count": 29,
   "metadata": {
    "cell_id": "71cd4b2ee5a74b96aa2dd4e1da166655",
    "deepnote_cell_type": "markdown",
    "tags": []
   },
   "outputs": [],
   "source": [
    "svm = pipeline_svm_2.fit(df_clas, target)"
   ]
  },
  {
   "cell_type": "markdown",
   "metadata": {},
   "source": [
    "Predecimos etiquetas"
   ]
  },
  {
   "cell_type": "code",
   "execution_count": 30,
   "metadata": {
    "cell_id": "e54c0311c11e47cf917f4c7ec61370bc",
    "deepnote_cell_type": "code",
    "tags": []
   },
   "outputs": [],
   "source": [
    "preds = svm.predict(df_clas)"
   ]
  },
  {
   "cell_type": "markdown",
   "metadata": {},
   "source": [
    "Finalmente, calculamos métricas"
   ]
  },
  {
   "cell_type": "code",
   "execution_count": 31,
   "metadata": {},
   "outputs": [
    {
     "name": "stdout",
     "output_type": "stream",
     "text": [
      "                 precision    recall  f1-score   support\n",
      "\n",
      "        arquero       1.00      1.00      1.00       632\n",
      "         ataque       0.83      0.88      0.86       430\n",
      "        central       0.65      0.73      0.69       907\n",
      " central_ataque       0.65      0.41      0.50       581\n",
      "central_defensa       0.69      0.32      0.43       209\n",
      "        defensa       0.84      0.97      0.90      1180\n",
      "\n",
      "       accuracy                           0.79      3939\n",
      "      macro avg       0.78      0.72      0.73      3939\n",
      "   weighted avg       0.78      0.79      0.78      3939\n",
      "\n"
     ]
    }
   ],
   "source": [
    "print(classification_report(target, preds))"
   ]
  },
  {
   "cell_type": "markdown",
   "metadata": {},
   "source": [
    "Observamos que en general tuvo un buen desempeño, con una accuracy promedio de 0.79 y f1_score (macro promedio) de 0.73. No es completamente certero pero nos dice con suficiente confianza (en términos de estrategia de negocios) la posición en la que se podría poner a un nuevo jugador.\n",
    "\n",
    "Sin embargo, son la métricas en train, por lo que el modelo podría estar sobreajustado. Pero debido a que las clases con peores métricas fueron `central_ataque` y `central_defensa`, entonces probablemente esto se debe a que son posiciones intermedias. Esto implicaría que si existe un correlato entre los atributos de los jugadores y su posición, y que en estos casos el mal desempeño se debería a que **las categorías en sí son difusas**. En contraste, arquero tuvo todas sus métricas perfectas, lo cual coincide con que es la posición que más se distingue del resto, seguido de defensa y ataque.\n",
    "\n",
    "Visualizamos esto mediante una matriz de confusión."
   ]
  },
  {
   "cell_type": "code",
   "execution_count": 32,
   "metadata": {},
   "outputs": [
    {
     "data": {
      "image/png": "[encoded data removed]",
      "text/plain": [
       "<Figure size 640x480 with 2 Axes>"
      ]
     },
     "metadata": {},
     "output_type": "display_data"
    }
   ],
   "source": [
    "import seaborn as sns\n",
    "CM = confusion_matrix(target, preds)\n",
    "\n",
    "#Normalizamos por true label\n",
    "CM = CM / np.sum(CM, axis = 1).reshape(-1, 1)\n",
    "\n",
    "#Seaborn power\n",
    "hm = sns.heatmap(CM, xticklabels = svm.classes_, yticklabels = svm.classes_, annot =True)\n",
    "hm.set(xlabel='True labeL', ylabel='Predicted Label')\n",
    "pass"
   ]
  },
  {
   "cell_type": "markdown",
   "metadata": {},
   "source": [
    "Observamos que efectivamente clasificó erroneamente los central_defensa como defensas y los central_ataque como central, dando mayores indicios de que en general el clasificador tuvo un buen desempeño.\n",
    "\n",
    "\n",
    "~~Como somos porfiados~~Para un análisis más robusto, repetiremos el procedimiento con regresión logística\n",
    "\n",
    "### Logistic Regression\n",
    "\n",
    "De manera análoga, aplicamos el pipeline."
   ]
  },
  {
   "cell_type": "code",
   "execution_count": 33,
   "metadata": {},
   "outputs": [
    {
     "name": "stdout",
     "output_type": "stream",
     "text": [
      "                 precision    recall  f1-score   support\n",
      "\n",
      "        arquero       1.00      1.00      1.00       632\n",
      "         ataque       0.83      0.87      0.85       430\n",
      "        central       0.63      0.68      0.65       907\n",
      " central_ataque       0.62      0.44      0.51       581\n",
      "central_defensa       0.63      0.28      0.39       209\n",
      "        defensa       0.82      0.95      0.88      1180\n",
      "\n",
      "       accuracy                           0.78      3939\n",
      "      macro avg       0.75      0.70      0.71      3939\n",
      "   weighted avg       0.77      0.78      0.76      3939\n",
      "\n"
     ]
    },
    {
     "data": {
      "image/png": "[encoded data removed]",
      "text/plain": [
       "<Figure size 640x480 with 2 Axes>"
      ]
     },
     "metadata": {},
     "output_type": "display_data"
    }
   ],
   "source": [
    "#Pipeline\n",
    "pipeline_logreg_2 = Pipeline([\n",
    "    (\"preprocesamiento\", ct2),\n",
    "    (\"logreg\", LogisticRegression(max_iter = 500))\n",
    "])\n",
    "\n",
    "#Entrenamiento\n",
    "logreg = pipeline_logreg_2.fit(df_clas, target)\n",
    "#Predicciones\n",
    "preds = logreg.predict(df_clas)\n",
    "\n",
    "#Métricas\n",
    "print(classification_report(target, preds))\n",
    "\n",
    "#Matriz de confusión\n",
    "CM = confusion_matrix(target, preds)\n",
    "CM = CM / np.sum(CM, axis = 1).reshape(-1, 1)\n",
    "hm = sns.heatmap(CM, xticklabels = logreg.classes_, yticklabels = logreg.classes_, annot =True)\n",
    "hm.set(xlabel='True labeL', ylabel='Predicted Label')\n",
    "pass"
   ]
  },
  {
   "cell_type": "markdown",
   "metadata": {},
   "source": [
    "Observamos exactamente el mismo patrón que con SVM, pero con un desempeño levemente peor. Ante estos resultados, ~~juramos solemnemente siempre confiar en los criterios de SkLearn~~ concluimos que ante este problema sería preferible utilizar SVM. De todas formas, se debería evaluar si este resultado es efectivamente generalizable.\n",
    "\n",
    "En una última exploración, realizaremos análisis para evaluar si el modelo está ajustado.\n",
    "\n",
    "### Análisis de sobreajuste\n",
    "\n",
    "Repetimos el pipeline, esta vez utilizando datos de validación. Sin embargo, en vez de realizar train_test_split, nos aventuramos por realizar *cross validation*, que es un mecanismo mucho más robusto de evaluar la generalizabilidad del modelo. Este consiste en dividir el dataset en una cierta cantidad (en este caso por 10) de subconjuntos, de los que se deja sólo 1 para evaluar y se entrena en el resto. Se itera hasta que todos los subconjuntos fueron utilizados para validar y luego se promedian las métricas."
   ]
  },
  {
   "cell_type": "code",
   "execution_count": 51,
   "metadata": {},
   "outputs": [
    {
     "name": "stdout",
     "output_type": "stream",
     "text": [
      "Realizando cross validation con modelo SVM..\n",
      "Realizando cross validation con modelo Regresión Logística..\n"
     ]
    }
   ],
   "source": [
    "from sklearn.model_selection import cross_validate\n",
    "\n",
    "print(\"Realizando cross validation con modelo SVM..\")\n",
    "scores_svm = cross_validate(pipeline_svm_2, df_clas, target, cv=10, scoring = \"f1_macro\")\n",
    "print(\"Realizando cross validation con modelo Regresión Logística..\")\n",
    "scores_logreg = cross_validate(pipeline_logreg_2, df_clas, target, cv=10, scoring = \"f1_macro\")"
   ]
  },
  {
   "cell_type": "markdown",
   "metadata": {},
   "source": [
    "Graficamos y promediamos las métricas para determinar cual modelo tiene mejor desempeño en datos de test."
   ]
  },
  {
   "cell_type": "code",
   "execution_count": 56,
   "metadata": {},
   "outputs": [
    {
     "data": {
      "image/png": "[encoded data removed]",
      "text/plain": [
       "<Figure size 1200x250 with 1 Axes>"
      ]
     },
     "metadata": {},
     "output_type": "display_data"
    }
   ],
   "source": [
    "plt.figure(figsize = (12, 2.5))\n",
    "plt.plot(scores_svm[\"test_score\"],    marker='o', markersize = 8, linewidth=4, label=\"SVM\")\n",
    "plt.plot(scores_logreg[\"test_score\"], marker='o', markersize = 8, linewidth=4, label=\"LogisticRegression\")\n",
    "plt.ylim((.5, .8))\n",
    "plt.xticks(np.arange(10))\n",
    "plt.xlabel(\"Iteración de Cross Validation\")\n",
    "plt.ylabel(\"F1 score macro\")\n",
    "plt.legend()\n",
    "plt.show()"
   ]
  },
  {
   "cell_type": "code",
   "execution_count": 53,
   "metadata": {},
   "outputs": [
    {
     "name": "stdout",
     "output_type": "stream",
     "text": [
      "Promedio F1 SVM: 0.6548170586074508\n",
      "Promedio F1 LogisticRegression: 0.6549863166250517\n"
     ]
    }
   ],
   "source": [
    "print(\"Promedio F1 SVM:\", np.mean(scores_svm[\"test_score\"]))\n",
    "print(\"Promedio F1 LogisticRegression:\", np.mean(scores_logreg[\"test_score\"]))"
   ]
  },
  {
   "cell_type": "markdown",
   "metadata": {
    "cell_id": "bea1283d202545a7a1008e29ee53e044",
    "deepnote_cell_type": "markdown",
    "tags": []
   },
   "source": [
    "Se comprueba que la regresión logística produce predicciones levemente más generalizables que SVM. Adicionalmente, observamos que en cross validation empeoraron las métricas respecto a la evaluación en datos de entrenamiento. Sin embargo, para ser predicciones en datos no vistos y con 6 categorías distintas los resultados no son del todo insatisfactorios. Observando la matriz de confusion, si se clasifica a un jugador en una posición, muy probablemente sea la correcta o alguna muy cercana.\n",
    "\n",
    "De todas formas, sería ideal obtener un F1 score de al menos 0.8 para hablar de una clasificación realmente satisfactoria. Si queremos mejorar la clasificación, se podrían **eliminar las clases** `central_ataque` y `central_defensa` y predecir sin clases ambiguas. También ayudaría **aumentar la cantidad de datos** de entrenamiento.\n",
    "\n",
    "Otra estrategia interesante sería **transformar el problema en uno de regresión**, ya que predecir como `defensa` a un jugador que es `central defensa` no es realmente equivocarse. El jugador efectivamente realiza labores defensivas, y probablemente ha jugado como defensa en otro club. Pero predecirlo como `Ataque` sí es un error muy penalizable, ya que salvo excepciones esto no sucede. Así, se podrían transformal las clases originales de `Club_Position` a un valor entre 0 y 1 que indique \"Que tan atrás\" juega. Así, penaliza menos a clasificaciones incorrectas a posiciones cercanas. Se tendría que setear a la posición más ofensiva como 1, a la más defensiva como 0.3 y al arquero como 0, para reflejar el hecho de que el arquero es una posición única."
   ]
  },
  {
   "cell_type": "markdown",
   "metadata": {
    "cell_id": "f8008fda06be4d8ab7564d7362151a14",
    "deepnote_cell_type": "markdown",
    "id": "C-vkB4xoOGtM"
   },
   "source": [
    "## 1.3 Predicción de Sueldos [2 puntos]\n",
    "\n",
    "<p align=\"center\">\n",
    "  <img src=\"https://media.giphy.com/media/3oEjHWtHAFcOKS4iA0/giphy.gif\" width=\"460\">\n",
    "</p>"
   ]
  },
  {
   "cell_type": "markdown",
   "metadata": {
    "cell_id": "598c8a91d80c412091470f396af54b5f",
    "deepnote_cell_type": "markdown",
    "tags": []
   },
   "source": [
    "Queriendo ahondar aún más en el mercado del balompíe, Renacin, logra obtener (de una manera no muy formal) los sueldos de múltiples futbolistas y los guarda en el archivo ```sueldos.csv```. Con ellos les solicita que generen un regresor que les permita predecir el sueldo de los futbolistas en base a las características de los pichichis, esto, debido a su motivación por invertir y/o realizar especulación sobre los sueldos de jugadores.\n",
    "\n",
    "Renacin es claro señalando que deben seguir utilizando la [guía](https://scikit-learn.org/stable/tutorial/machine_learning_map/index.html) y comenten cada uno de los pasos realizados, para obtener su regresión lineal. Señalándoles que no aceptara un $R^2$ inferior a 0.35 para el modelo solicitado.\n",
    "\n",
    "Para esta parte usted tiene total libertad en la generación del regresor, la unica exigencia es que utilice un pipeline para generar la regresión y utilice la metrica $R^2$ para medir el rendimiento de esta.\n",
    "\n",
    "**To-Do**:\n",
    "\n",
    "- [x] Explique en que consiste la métrica $R^2$\n",
    "- [x] Generar un pipeline para la regresión.\n",
    "- [x] Obtener un regresor con un $R^2$ superior a  $0.35$.\n",
    "- [x] Comente sus resultados y si es posible mejorar los resultados obtenidos. ¿Se necesitarían más datos o otros tipos de características o una combinación de ambos?"
   ]
  },
  {
   "cell_type": "markdown",
   "metadata": {
    "cell_id": "5ce70aab37cb4924b1543eeab84e7de4",
    "deepnote_cell_type": "markdown",
    "tags": []
   },
   "source": [
    "**Respuesta**"
   ]
  },
  {
   "cell_type": "markdown",
   "metadata": {},
   "source": [
    "El coeficiente de determinación $R^2$, es una métrica que representa la proproción de varianza de las predicciones del modelo con respecto a los valores reales. Su formula se define como: $$R^2 = 1 - \\frac{\\sum_{i=1}(y_i - \\hat{y_i})^2}{\\sum_{i=1}(y_i - \\overline{y_i})^2}$$\n",
    "Donde y_i es el valor real, \\hat{y_i} el valor predicho y \\overline{y_i} es la media de los valores reales.\n",
    "\n",
    "Entonces, con la métrica $R^2$ se quiere ver que tan bueno es nuestro modelo/regresión si la comparamos con una \"regresión dummy\". Por lo tanto, lo **ideal** es que el modelo esté lo más cercano a 1."
   ]
  },
  {
   "cell_type": "code",
   "execution_count": 37,
   "metadata": {},
   "outputs": [],
   "source": [
    "import matplotlib.pyplot as plt"
   ]
  },
  {
   "cell_type": "code",
   "execution_count": 38,
   "metadata": {
    "cell_id": "96e8db5c5a7044b79966da981618c807",
    "deepnote_cell_type": "code",
    "scrolled": true,
    "tags": []
   },
   "outputs": [],
   "source": [
    "df_sueldos = pd.read_csv('sueldos.csv')\n",
    "df_sueldos = df_sueldos.drop(['Unnamed: 0'], axis=1)"
   ]
  },
  {
   "cell_type": "code",
   "execution_count": 39,
   "metadata": {},
   "outputs": [
    {
     "data": {
      "image/png": "[encoded data removed]",
      "text/plain": [
       "<Figure size 640x480 with 1 Axes>"
      ]
     },
     "metadata": {},
     "output_type": "display_data"
    }
   ],
   "source": [
    "df_sueldos.boxplot()\n",
    "plt.show()"
   ]
  },
  {
   "cell_type": "code",
   "execution_count": 40,
   "metadata": {
    "scrolled": true
   },
   "outputs": [],
   "source": [
    "df_player_salary = df_sueldos.merge(df_players, left_on=\"Player\", right_on=\"Name\")\n",
    "df_player_salary = df_player_salary.drop_duplicates()"
   ]
  },
  {
   "cell_type": "code",
   "execution_count": 41,
   "metadata": {},
   "outputs": [
    {
     "data": {
      "text/html": [
       "<div>\n",
       "<style scoped>\n",
       "    .dataframe tbody tr th:only-of-type {\n",
       "        vertical-align: middle;\n",
       "    }\n",
       "\n",
       "    .dataframe tbody tr th {\n",
       "        vertical-align: top;\n",
       "    }\n",
       "\n",
       "    .dataframe thead th {\n",
       "        text-align: right;\n",
       "    }\n",
       "</style>\n",
       "<table border=\"1\" class=\"dataframe\">\n",
       "  <thead>\n",
       "    <tr style=\"text-align: right;\">\n",
       "      <th></th>\n",
       "      <th>Player</th>\n",
       "      <th>Weekly Salary</th>\n",
       "      <th>Name</th>\n",
       "      <th>Nationality</th>\n",
       "      <th>National_Position</th>\n",
       "      <th>Club_Position</th>\n",
       "      <th>Height</th>\n",
       "      <th>Weight</th>\n",
       "      <th>Preffered_Foot</th>\n",
       "      <th>Age</th>\n",
       "      <th>...</th>\n",
       "      <th>Agility</th>\n",
       "      <th>Jumping</th>\n",
       "      <th>Heading</th>\n",
       "      <th>Shot_Power</th>\n",
       "      <th>Finishing</th>\n",
       "      <th>Long_Shots</th>\n",
       "      <th>Curve</th>\n",
       "      <th>Freekick_Accuracy</th>\n",
       "      <th>Penalties</th>\n",
       "      <th>Volleys</th>\n",
       "    </tr>\n",
       "  </thead>\n",
       "  <tbody>\n",
       "    <tr>\n",
       "      <th>0</th>\n",
       "      <td>Lionel Messi</td>\n",
       "      <td>1538905.0</td>\n",
       "      <td>Lionel Messi</td>\n",
       "      <td>Argentina</td>\n",
       "      <td>RW</td>\n",
       "      <td>RW</td>\n",
       "      <td>170</td>\n",
       "      <td>72</td>\n",
       "      <td>Left</td>\n",
       "      <td>29</td>\n",
       "      <td>...</td>\n",
       "      <td>90</td>\n",
       "      <td>68</td>\n",
       "      <td>71</td>\n",
       "      <td>85</td>\n",
       "      <td>95</td>\n",
       "      <td>88</td>\n",
       "      <td>89</td>\n",
       "      <td>90</td>\n",
       "      <td>74</td>\n",
       "      <td>85</td>\n",
       "    </tr>\n",
       "    <tr>\n",
       "      <th>1</th>\n",
       "      <td>Cristiano Ronaldo</td>\n",
       "      <td>1248536.0</td>\n",
       "      <td>Cristiano Ronaldo</td>\n",
       "      <td>Portugal</td>\n",
       "      <td>LS</td>\n",
       "      <td>LW</td>\n",
       "      <td>185</td>\n",
       "      <td>80</td>\n",
       "      <td>Right</td>\n",
       "      <td>32</td>\n",
       "      <td>...</td>\n",
       "      <td>90</td>\n",
       "      <td>95</td>\n",
       "      <td>85</td>\n",
       "      <td>92</td>\n",
       "      <td>93</td>\n",
       "      <td>90</td>\n",
       "      <td>81</td>\n",
       "      <td>76</td>\n",
       "      <td>85</td>\n",
       "      <td>88</td>\n",
       "    </tr>\n",
       "    <tr>\n",
       "      <th>2</th>\n",
       "      <td>Antoine Griezmann</td>\n",
       "      <td>997032.0</td>\n",
       "      <td>Antoine Griezmann</td>\n",
       "      <td>France</td>\n",
       "      <td>CAM</td>\n",
       "      <td>RS</td>\n",
       "      <td>176</td>\n",
       "      <td>67</td>\n",
       "      <td>Left</td>\n",
       "      <td>26</td>\n",
       "      <td>...</td>\n",
       "      <td>90</td>\n",
       "      <td>87</td>\n",
       "      <td>80</td>\n",
       "      <td>81</td>\n",
       "      <td>88</td>\n",
       "      <td>82</td>\n",
       "      <td>84</td>\n",
       "      <td>75</td>\n",
       "      <td>71</td>\n",
       "      <td>87</td>\n",
       "    </tr>\n",
       "    <tr>\n",
       "      <th>3</th>\n",
       "      <td>Neymar</td>\n",
       "      <td>797726.0</td>\n",
       "      <td>Neymar</td>\n",
       "      <td>Brazil</td>\n",
       "      <td>LW</td>\n",
       "      <td>LW</td>\n",
       "      <td>174</td>\n",
       "      <td>68</td>\n",
       "      <td>Right</td>\n",
       "      <td>25</td>\n",
       "      <td>...</td>\n",
       "      <td>96</td>\n",
       "      <td>61</td>\n",
       "      <td>62</td>\n",
       "      <td>78</td>\n",
       "      <td>89</td>\n",
       "      <td>77</td>\n",
       "      <td>79</td>\n",
       "      <td>84</td>\n",
       "      <td>81</td>\n",
       "      <td>83</td>\n",
       "    </tr>\n",
       "    <tr>\n",
       "      <th>4</th>\n",
       "      <td>Gareth Bale</td>\n",
       "      <td>607706.0</td>\n",
       "      <td>Gareth Bale</td>\n",
       "      <td>Wales</td>\n",
       "      <td>RS</td>\n",
       "      <td>RW</td>\n",
       "      <td>183</td>\n",
       "      <td>74</td>\n",
       "      <td>Left</td>\n",
       "      <td>27</td>\n",
       "      <td>...</td>\n",
       "      <td>77</td>\n",
       "      <td>85</td>\n",
       "      <td>86</td>\n",
       "      <td>91</td>\n",
       "      <td>87</td>\n",
       "      <td>90</td>\n",
       "      <td>86</td>\n",
       "      <td>85</td>\n",
       "      <td>76</td>\n",
       "      <td>76</td>\n",
       "    </tr>\n",
       "    <tr>\n",
       "      <th>...</th>\n",
       "      <td>...</td>\n",
       "      <td>...</td>\n",
       "      <td>...</td>\n",
       "      <td>...</td>\n",
       "      <td>...</td>\n",
       "      <td>...</td>\n",
       "      <td>...</td>\n",
       "      <td>...</td>\n",
       "      <td>...</td>\n",
       "      <td>...</td>\n",
       "      <td>...</td>\n",
       "      <td>...</td>\n",
       "      <td>...</td>\n",
       "      <td>...</td>\n",
       "      <td>...</td>\n",
       "      <td>...</td>\n",
       "      <td>...</td>\n",
       "      <td>...</td>\n",
       "      <td>...</td>\n",
       "      <td>...</td>\n",
       "      <td>...</td>\n",
       "    </tr>\n",
       "    <tr>\n",
       "      <th>1861</th>\n",
       "      <td>Michael Langer</td>\n",
       "      <td>903.0</td>\n",
       "      <td>Michael Langer</td>\n",
       "      <td>Austria</td>\n",
       "      <td>NaN</td>\n",
       "      <td>GK</td>\n",
       "      <td>194</td>\n",
       "      <td>92</td>\n",
       "      <td>Right</td>\n",
       "      <td>32</td>\n",
       "      <td>...</td>\n",
       "      <td>22</td>\n",
       "      <td>50</td>\n",
       "      <td>14</td>\n",
       "      <td>15</td>\n",
       "      <td>14</td>\n",
       "      <td>13</td>\n",
       "      <td>12</td>\n",
       "      <td>12</td>\n",
       "      <td>13</td>\n",
       "      <td>11</td>\n",
       "    </tr>\n",
       "    <tr>\n",
       "      <th>1862</th>\n",
       "      <td>Nicolas Lemaître</td>\n",
       "      <td>859.0</td>\n",
       "      <td>Nicolas Lemaître</td>\n",
       "      <td>France</td>\n",
       "      <td>NaN</td>\n",
       "      <td>Res</td>\n",
       "      <td>185</td>\n",
       "      <td>83</td>\n",
       "      <td>Right</td>\n",
       "      <td>20</td>\n",
       "      <td>...</td>\n",
       "      <td>24</td>\n",
       "      <td>32</td>\n",
       "      <td>23</td>\n",
       "      <td>23</td>\n",
       "      <td>17</td>\n",
       "      <td>15</td>\n",
       "      <td>19</td>\n",
       "      <td>14</td>\n",
       "      <td>22</td>\n",
       "      <td>17</td>\n",
       "    </tr>\n",
       "    <tr>\n",
       "      <th>1863</th>\n",
       "      <td>Andrea Pinamonti</td>\n",
       "      <td>805.0</td>\n",
       "      <td>Andrea Pinamonti</td>\n",
       "      <td>Italy</td>\n",
       "      <td>NaN</td>\n",
       "      <td>Res</td>\n",
       "      <td>181</td>\n",
       "      <td>72</td>\n",
       "      <td>Right</td>\n",
       "      <td>17</td>\n",
       "      <td>...</td>\n",
       "      <td>65</td>\n",
       "      <td>65</td>\n",
       "      <td>62</td>\n",
       "      <td>57</td>\n",
       "      <td>74</td>\n",
       "      <td>60</td>\n",
       "      <td>43</td>\n",
       "      <td>43</td>\n",
       "      <td>69</td>\n",
       "      <td>43</td>\n",
       "    </tr>\n",
       "    <tr>\n",
       "      <th>1864</th>\n",
       "      <td>Tim Wiesner</td>\n",
       "      <td>674.0</td>\n",
       "      <td>Tim Wiesner</td>\n",
       "      <td>Germany</td>\n",
       "      <td>NaN</td>\n",
       "      <td>Res</td>\n",
       "      <td>192</td>\n",
       "      <td>87</td>\n",
       "      <td>Right</td>\n",
       "      <td>20</td>\n",
       "      <td>...</td>\n",
       "      <td>39</td>\n",
       "      <td>57</td>\n",
       "      <td>16</td>\n",
       "      <td>19</td>\n",
       "      <td>13</td>\n",
       "      <td>15</td>\n",
       "      <td>18</td>\n",
       "      <td>16</td>\n",
       "      <td>20</td>\n",
       "      <td>14</td>\n",
       "    </tr>\n",
       "    <tr>\n",
       "      <th>1865</th>\n",
       "      <td>Dennis Lippert</td>\n",
       "      <td>620.0</td>\n",
       "      <td>Dennis Lippert</td>\n",
       "      <td>Germany</td>\n",
       "      <td>NaN</td>\n",
       "      <td>LB</td>\n",
       "      <td>172</td>\n",
       "      <td>63</td>\n",
       "      <td>Left</td>\n",
       "      <td>21</td>\n",
       "      <td>...</td>\n",
       "      <td>73</td>\n",
       "      <td>76</td>\n",
       "      <td>42</td>\n",
       "      <td>33</td>\n",
       "      <td>25</td>\n",
       "      <td>40</td>\n",
       "      <td>49</td>\n",
       "      <td>26</td>\n",
       "      <td>28</td>\n",
       "      <td>23</td>\n",
       "    </tr>\n",
       "  </tbody>\n",
       "</table>\n",
       "<p>1864 rows × 41 columns</p>\n",
       "</div>"
      ],
      "text/plain": [
       "                 Player  Weekly Salary               Name Nationality  \\\n",
       "0          Lionel Messi      1538905.0       Lionel Messi   Argentina   \n",
       "1     Cristiano Ronaldo      1248536.0  Cristiano Ronaldo    Portugal   \n",
       "2     Antoine Griezmann       997032.0  Antoine Griezmann      France   \n",
       "3                Neymar       797726.0             Neymar      Brazil   \n",
       "4           Gareth Bale       607706.0        Gareth Bale       Wales   \n",
       "...                 ...            ...                ...         ...   \n",
       "1861     Michael Langer          903.0     Michael Langer     Austria   \n",
       "1862   Nicolas Lemaître          859.0   Nicolas Lemaître      France   \n",
       "1863   Andrea Pinamonti          805.0   Andrea Pinamonti       Italy   \n",
       "1864        Tim Wiesner          674.0        Tim Wiesner     Germany   \n",
       "1865     Dennis Lippert          620.0     Dennis Lippert     Germany   \n",
       "\n",
       "     National_Position Club_Position  Height  Weight Preffered_Foot  Age  ...  \\\n",
       "0                   RW            RW     170      72           Left   29  ...   \n",
       "1                   LS            LW     185      80          Right   32  ...   \n",
       "2                  CAM            RS     176      67           Left   26  ...   \n",
       "3                   LW            LW     174      68          Right   25  ...   \n",
       "4                   RS            RW     183      74           Left   27  ...   \n",
       "...                ...           ...     ...     ...            ...  ...  ...   \n",
       "1861               NaN            GK     194      92          Right   32  ...   \n",
       "1862               NaN           Res     185      83          Right   20  ...   \n",
       "1863               NaN           Res     181      72          Right   17  ...   \n",
       "1864               NaN           Res     192      87          Right   20  ...   \n",
       "1865               NaN            LB     172      63           Left   21  ...   \n",
       "\n",
       "     Agility  Jumping  Heading  Shot_Power  Finishing  Long_Shots  Curve  \\\n",
       "0         90       68       71          85         95          88     89   \n",
       "1         90       95       85          92         93          90     81   \n",
       "2         90       87       80          81         88          82     84   \n",
       "3         96       61       62          78         89          77     79   \n",
       "4         77       85       86          91         87          90     86   \n",
       "...      ...      ...      ...         ...        ...         ...    ...   \n",
       "1861      22       50       14          15         14          13     12   \n",
       "1862      24       32       23          23         17          15     19   \n",
       "1863      65       65       62          57         74          60     43   \n",
       "1864      39       57       16          19         13          15     18   \n",
       "1865      73       76       42          33         25          40     49   \n",
       "\n",
       "      Freekick_Accuracy  Penalties  Volleys  \n",
       "0                    90         74       85  \n",
       "1                    76         85       88  \n",
       "2                    75         71       87  \n",
       "3                    84         81       83  \n",
       "4                    85         76       76  \n",
       "...                 ...        ...      ...  \n",
       "1861                 12         13       11  \n",
       "1862                 14         22       17  \n",
       "1863                 43         69       43  \n",
       "1864                 16         20       14  \n",
       "1865                 26         28       23  \n",
       "\n",
       "[1864 rows x 41 columns]"
      ]
     },
     "execution_count": 41,
     "metadata": {},
     "output_type": "execute_result"
    }
   ],
   "source": [
    "df_player_salary"
   ]
  },
  {
   "cell_type": "code",
   "execution_count": 42,
   "metadata": {},
   "outputs": [],
   "source": [
    "# Dividiendo los datos\n",
    "salary = df_player_salary['Weekly Salary']\n",
    "X = df_player_salary.drop(columns=['Weekly Salary', 'National_Position'])\n",
    "\n",
    "X_train, X_test, y_train, y_test = train_test_split(X, salary, test_size=0.30, random_state=86)"
   ]
  },
  {
   "cell_type": "code",
   "execution_count": 43,
   "metadata": {
    "scrolled": true
   },
   "outputs": [
    {
     "data": {
      "text/html": [
       "<div>\n",
       "<style scoped>\n",
       "    .dataframe tbody tr th:only-of-type {\n",
       "        vertical-align: middle;\n",
       "    }\n",
       "\n",
       "    .dataframe tbody tr th {\n",
       "        vertical-align: top;\n",
       "    }\n",
       "\n",
       "    .dataframe thead th {\n",
       "        text-align: right;\n",
       "    }\n",
       "</style>\n",
       "<table border=\"1\" class=\"dataframe\">\n",
       "  <thead>\n",
       "    <tr style=\"text-align: right;\">\n",
       "      <th></th>\n",
       "      <th>Player</th>\n",
       "      <th>Name</th>\n",
       "      <th>Nationality</th>\n",
       "      <th>Club_Position</th>\n",
       "      <th>Height</th>\n",
       "      <th>Weight</th>\n",
       "      <th>Preffered_Foot</th>\n",
       "      <th>Age</th>\n",
       "      <th>Work_Rate</th>\n",
       "      <th>Weak_foot</th>\n",
       "      <th>...</th>\n",
       "      <th>Agility</th>\n",
       "      <th>Jumping</th>\n",
       "      <th>Heading</th>\n",
       "      <th>Shot_Power</th>\n",
       "      <th>Finishing</th>\n",
       "      <th>Long_Shots</th>\n",
       "      <th>Curve</th>\n",
       "      <th>Freekick_Accuracy</th>\n",
       "      <th>Penalties</th>\n",
       "      <th>Volleys</th>\n",
       "    </tr>\n",
       "  </thead>\n",
       "  <tbody>\n",
       "    <tr>\n",
       "      <th>1849</th>\n",
       "      <td>Eric Oelschlägel</td>\n",
       "      <td>Eric Oelschlägel</td>\n",
       "      <td>Germany</td>\n",
       "      <td>Sub</td>\n",
       "      <td>193</td>\n",
       "      <td>87</td>\n",
       "      <td>Right</td>\n",
       "      <td>21</td>\n",
       "      <td>Medium / Medium</td>\n",
       "      <td>2</td>\n",
       "      <td>...</td>\n",
       "      <td>34</td>\n",
       "      <td>55</td>\n",
       "      <td>25</td>\n",
       "      <td>24</td>\n",
       "      <td>12</td>\n",
       "      <td>10</td>\n",
       "      <td>20</td>\n",
       "      <td>11</td>\n",
       "      <td>18</td>\n",
       "      <td>10</td>\n",
       "    </tr>\n",
       "    <tr>\n",
       "      <th>1787</th>\n",
       "      <td>Felix Götze</td>\n",
       "      <td>Felix Götze</td>\n",
       "      <td>Germany</td>\n",
       "      <td>Res</td>\n",
       "      <td>185</td>\n",
       "      <td>78</td>\n",
       "      <td>Right</td>\n",
       "      <td>19</td>\n",
       "      <td>Medium / Medium</td>\n",
       "      <td>2</td>\n",
       "      <td>...</td>\n",
       "      <td>38</td>\n",
       "      <td>61</td>\n",
       "      <td>64</td>\n",
       "      <td>41</td>\n",
       "      <td>26</td>\n",
       "      <td>27</td>\n",
       "      <td>29</td>\n",
       "      <td>28</td>\n",
       "      <td>30</td>\n",
       "      <td>33</td>\n",
       "    </tr>\n",
       "    <tr>\n",
       "      <th>1425</th>\n",
       "      <td>Yoan Cardinale</td>\n",
       "      <td>Yoan Cardinale</td>\n",
       "      <td>France</td>\n",
       "      <td>GK</td>\n",
       "      <td>181</td>\n",
       "      <td>84</td>\n",
       "      <td>Right</td>\n",
       "      <td>23</td>\n",
       "      <td>Medium / Medium</td>\n",
       "      <td>3</td>\n",
       "      <td>...</td>\n",
       "      <td>43</td>\n",
       "      <td>55</td>\n",
       "      <td>16</td>\n",
       "      <td>25</td>\n",
       "      <td>14</td>\n",
       "      <td>20</td>\n",
       "      <td>13</td>\n",
       "      <td>18</td>\n",
       "      <td>23</td>\n",
       "      <td>20</td>\n",
       "    </tr>\n",
       "    <tr>\n",
       "      <th>1472</th>\n",
       "      <td>Gen Shoji</td>\n",
       "      <td>Gen Shoji</td>\n",
       "      <td>Japan</td>\n",
       "      <td>LCB</td>\n",
       "      <td>182</td>\n",
       "      <td>74</td>\n",
       "      <td>Right</td>\n",
       "      <td>24</td>\n",
       "      <td>Medium / Medium</td>\n",
       "      <td>3</td>\n",
       "      <td>...</td>\n",
       "      <td>49</td>\n",
       "      <td>75</td>\n",
       "      <td>74</td>\n",
       "      <td>42</td>\n",
       "      <td>29</td>\n",
       "      <td>28</td>\n",
       "      <td>32</td>\n",
       "      <td>34</td>\n",
       "      <td>32</td>\n",
       "      <td>28</td>\n",
       "    </tr>\n",
       "    <tr>\n",
       "      <th>1101</th>\n",
       "      <td>Benjamin Hübner</td>\n",
       "      <td>Benjamin Hübner</td>\n",
       "      <td>Germany</td>\n",
       "      <td>LCB</td>\n",
       "      <td>193</td>\n",
       "      <td>82</td>\n",
       "      <td>Left</td>\n",
       "      <td>27</td>\n",
       "      <td>Medium / Medium</td>\n",
       "      <td>2</td>\n",
       "      <td>...</td>\n",
       "      <td>48</td>\n",
       "      <td>60</td>\n",
       "      <td>81</td>\n",
       "      <td>52</td>\n",
       "      <td>20</td>\n",
       "      <td>22</td>\n",
       "      <td>40</td>\n",
       "      <td>42</td>\n",
       "      <td>50</td>\n",
       "      <td>45</td>\n",
       "    </tr>\n",
       "    <tr>\n",
       "      <th>...</th>\n",
       "      <td>...</td>\n",
       "      <td>...</td>\n",
       "      <td>...</td>\n",
       "      <td>...</td>\n",
       "      <td>...</td>\n",
       "      <td>...</td>\n",
       "      <td>...</td>\n",
       "      <td>...</td>\n",
       "      <td>...</td>\n",
       "      <td>...</td>\n",
       "      <td>...</td>\n",
       "      <td>...</td>\n",
       "      <td>...</td>\n",
       "      <td>...</td>\n",
       "      <td>...</td>\n",
       "      <td>...</td>\n",
       "      <td>...</td>\n",
       "      <td>...</td>\n",
       "      <td>...</td>\n",
       "      <td>...</td>\n",
       "      <td>...</td>\n",
       "    </tr>\n",
       "    <tr>\n",
       "      <th>1706</th>\n",
       "      <td>Matheus Pereira</td>\n",
       "      <td>Matheus Pereira</td>\n",
       "      <td>Brazil</td>\n",
       "      <td>Res</td>\n",
       "      <td>181</td>\n",
       "      <td>68</td>\n",
       "      <td>Left</td>\n",
       "      <td>19</td>\n",
       "      <td>Medium / Medium</td>\n",
       "      <td>3</td>\n",
       "      <td>...</td>\n",
       "      <td>69</td>\n",
       "      <td>53</td>\n",
       "      <td>52</td>\n",
       "      <td>58</td>\n",
       "      <td>60</td>\n",
       "      <td>52</td>\n",
       "      <td>73</td>\n",
       "      <td>64</td>\n",
       "      <td>62</td>\n",
       "      <td>66</td>\n",
       "    </tr>\n",
       "    <tr>\n",
       "      <th>1125</th>\n",
       "      <td>Abdul Rahman Baba</td>\n",
       "      <td>Abdul Rahman Baba</td>\n",
       "      <td>Ghana</td>\n",
       "      <td>Res</td>\n",
       "      <td>179</td>\n",
       "      <td>70</td>\n",
       "      <td>Left</td>\n",
       "      <td>22</td>\n",
       "      <td>High / Medium</td>\n",
       "      <td>3</td>\n",
       "      <td>...</td>\n",
       "      <td>78</td>\n",
       "      <td>76</td>\n",
       "      <td>67</td>\n",
       "      <td>59</td>\n",
       "      <td>48</td>\n",
       "      <td>47</td>\n",
       "      <td>67</td>\n",
       "      <td>23</td>\n",
       "      <td>42</td>\n",
       "      <td>41</td>\n",
       "    </tr>\n",
       "    <tr>\n",
       "      <th>1822</th>\n",
       "      <td>Bryan Passi</td>\n",
       "      <td>Bryan Passi</td>\n",
       "      <td>France</td>\n",
       "      <td>Res</td>\n",
       "      <td>189</td>\n",
       "      <td>78</td>\n",
       "      <td>Right</td>\n",
       "      <td>19</td>\n",
       "      <td>Medium / High</td>\n",
       "      <td>3</td>\n",
       "      <td>...</td>\n",
       "      <td>57</td>\n",
       "      <td>67</td>\n",
       "      <td>61</td>\n",
       "      <td>55</td>\n",
       "      <td>36</td>\n",
       "      <td>32</td>\n",
       "      <td>40</td>\n",
       "      <td>44</td>\n",
       "      <td>51</td>\n",
       "      <td>34</td>\n",
       "    </tr>\n",
       "    <tr>\n",
       "      <th>1454</th>\n",
       "      <td>Derrick Luckassen</td>\n",
       "      <td>Derrick Luckassen</td>\n",
       "      <td>Netherlands</td>\n",
       "      <td>LCB</td>\n",
       "      <td>185</td>\n",
       "      <td>75</td>\n",
       "      <td>Right</td>\n",
       "      <td>21</td>\n",
       "      <td>High / Medium</td>\n",
       "      <td>3</td>\n",
       "      <td>...</td>\n",
       "      <td>74</td>\n",
       "      <td>82</td>\n",
       "      <td>75</td>\n",
       "      <td>77</td>\n",
       "      <td>45</td>\n",
       "      <td>70</td>\n",
       "      <td>70</td>\n",
       "      <td>72</td>\n",
       "      <td>46</td>\n",
       "      <td>32</td>\n",
       "    </tr>\n",
       "    <tr>\n",
       "      <th>1174</th>\n",
       "      <td>Charalampos Lykogiannis</td>\n",
       "      <td>Charalampos Lykogiannis</td>\n",
       "      <td>Greece</td>\n",
       "      <td>LB</td>\n",
       "      <td>186</td>\n",
       "      <td>78</td>\n",
       "      <td>Left</td>\n",
       "      <td>23</td>\n",
       "      <td>Medium / Medium</td>\n",
       "      <td>3</td>\n",
       "      <td>...</td>\n",
       "      <td>44</td>\n",
       "      <td>62</td>\n",
       "      <td>52</td>\n",
       "      <td>78</td>\n",
       "      <td>62</td>\n",
       "      <td>74</td>\n",
       "      <td>69</td>\n",
       "      <td>67</td>\n",
       "      <td>58</td>\n",
       "      <td>55</td>\n",
       "    </tr>\n",
       "  </tbody>\n",
       "</table>\n",
       "<p>1304 rows × 39 columns</p>\n",
       "</div>"
      ],
      "text/plain": [
       "                       Player                     Name  Nationality  \\\n",
       "1849         Eric Oelschlägel         Eric Oelschlägel      Germany   \n",
       "1787              Felix Götze              Felix Götze      Germany   \n",
       "1425           Yoan Cardinale           Yoan Cardinale       France   \n",
       "1472                Gen Shoji                Gen Shoji        Japan   \n",
       "1101          Benjamin Hübner          Benjamin Hübner      Germany   \n",
       "...                       ...                      ...          ...   \n",
       "1706          Matheus Pereira          Matheus Pereira       Brazil   \n",
       "1125        Abdul Rahman Baba        Abdul Rahman Baba        Ghana   \n",
       "1822              Bryan Passi              Bryan Passi       France   \n",
       "1454        Derrick Luckassen        Derrick Luckassen  Netherlands   \n",
       "1174  Charalampos Lykogiannis  Charalampos Lykogiannis       Greece   \n",
       "\n",
       "     Club_Position  Height  Weight Preffered_Foot  Age        Work_Rate  \\\n",
       "1849           Sub     193      87          Right   21  Medium / Medium   \n",
       "1787           Res     185      78          Right   19  Medium / Medium   \n",
       "1425            GK     181      84          Right   23  Medium / Medium   \n",
       "1472           LCB     182      74          Right   24  Medium / Medium   \n",
       "1101           LCB     193      82           Left   27  Medium / Medium   \n",
       "...            ...     ...     ...            ...  ...              ...   \n",
       "1706           Res     181      68           Left   19  Medium / Medium   \n",
       "1125           Res     179      70           Left   22    High / Medium   \n",
       "1822           Res     189      78          Right   19    Medium / High   \n",
       "1454           LCB     185      75          Right   21    High / Medium   \n",
       "1174            LB     186      78           Left   23  Medium / Medium   \n",
       "\n",
       "      Weak_foot  ...  Agility  Jumping  Heading  Shot_Power  Finishing  \\\n",
       "1849          2  ...       34       55       25          24         12   \n",
       "1787          2  ...       38       61       64          41         26   \n",
       "1425          3  ...       43       55       16          25         14   \n",
       "1472          3  ...       49       75       74          42         29   \n",
       "1101          2  ...       48       60       81          52         20   \n",
       "...         ...  ...      ...      ...      ...         ...        ...   \n",
       "1706          3  ...       69       53       52          58         60   \n",
       "1125          3  ...       78       76       67          59         48   \n",
       "1822          3  ...       57       67       61          55         36   \n",
       "1454          3  ...       74       82       75          77         45   \n",
       "1174          3  ...       44       62       52          78         62   \n",
       "\n",
       "      Long_Shots  Curve  Freekick_Accuracy  Penalties  Volleys  \n",
       "1849          10     20                 11         18       10  \n",
       "1787          27     29                 28         30       33  \n",
       "1425          20     13                 18         23       20  \n",
       "1472          28     32                 34         32       28  \n",
       "1101          22     40                 42         50       45  \n",
       "...          ...    ...                ...        ...      ...  \n",
       "1706          52     73                 64         62       66  \n",
       "1125          47     67                 23         42       41  \n",
       "1822          32     40                 44         51       34  \n",
       "1454          70     70                 72         46       32  \n",
       "1174          74     69                 67         58       55  \n",
       "\n",
       "[1304 rows x 39 columns]"
      ]
     },
     "execution_count": 43,
     "metadata": {},
     "output_type": "execute_result"
    }
   ],
   "source": [
    "X_train"
   ]
  },
  {
   "cell_type": "markdown",
   "metadata": {},
   "source": [
    "Al ver que debemos predecir el salario de los jugadores, y utilizando la guía para escoger un regresor vemos que nos recomienda un modelo lineal regularizado por SGD, debido a que no tenemos más de 100k registros. Para la creación del pipeline se utilizará el mismo preprocesamiento de los datos, seguido del SGDRegressor."
   ]
  },
  {
   "cell_type": "code",
   "execution_count": 44,
   "metadata": {},
   "outputs": [],
   "source": [
    "from sklearn import linear_model\n",
    "from sklearn.metrics import r2_score\n",
    "from sklearn.linear_model import Ridge\n",
    "from sklearn.linear_model import SGDRegressor\n",
    "from sklearn.ensemble import AdaBoostRegressor\n",
    "from sklearn.ensemble import GradientBoostingRegressor"
   ]
  },
  {
   "cell_type": "code",
   "execution_count": 45,
   "metadata": {},
   "outputs": [],
   "source": [
    "# Pipeline modelo lineal + SGD\n",
    "pipeline_sgd = Pipeline([\n",
    "    (\"preprocesamiento\", ct),\n",
    "    (\"sgd\", SGDRegressor(random_state=86))\n",
    "])"
   ]
  },
  {
   "cell_type": "code",
   "execution_count": 46,
   "metadata": {},
   "outputs": [],
   "source": [
    "model_sgd = pipeline_sgd.fit(X_train, y_train)"
   ]
  },
  {
   "cell_type": "code",
   "execution_count": 47,
   "metadata": {},
   "outputs": [
    {
     "name": "stdout",
     "output_type": "stream",
     "text": [
      "SGDRegressor R^2 => 0.1890430251851858\n"
     ]
    }
   ],
   "source": [
    "y_pred = model_sgd.predict(X_test)\n",
    "print(\"SGDRegressor R^2 => {}\".format(r2_score(y_test, y_pred)))"
   ]
  },
  {
   "cell_type": "markdown",
   "metadata": {},
   "source": [
    "Como vemos, al utilizar un regresor lineal regularizado con SGD se obtiene un $R^2$ igual a 0.19 aproximadamente, valor que **no** se encuentra sobre lo pedido, por lo que se entrenarán más modelos/regresores para encontrar aquel modelo que cumpla con un coeficiente de determinación $R^2$ mayor a 0.35."
   ]
  },
  {
   "cell_type": "code",
   "execution_count": 48,
   "metadata": {},
   "outputs": [],
   "source": [
    "# Ridge\n",
    "pipeline_ridge = Pipeline([\n",
    "    (\"preprocesamiento\", ct),\n",
    "    (\"ridge\", Ridge(random_state=0))\n",
    "])\n",
    "model_ridge = pipeline_ridge.fit(X_train, y_train)"
   ]
  },
  {
   "cell_type": "code",
   "execution_count": 49,
   "metadata": {},
   "outputs": [],
   "source": [
    "# Lasso\n",
    "pipeline_lasso = Pipeline([\n",
    "    (\"preprocesamiento\", ct),\n",
    "    (\"lasso\", linear_model.LassoCV(random_state=0))\n",
    "])\n",
    "model_lasso = pipeline_lasso.fit(X_train, y_train)"
   ]
  },
  {
   "cell_type": "code",
   "execution_count": 66,
   "metadata": {},
   "outputs": [],
   "source": [
    "# Gradient Boosting Regressor\n",
    "pipeline_gbr = Pipeline([\n",
    "    (\"preprocesamiento\", ct),\n",
    "    (\"gbr\", GradientBoostingRegressor(n_estimators=50,\n",
    "                                      max_depth=1,\n",
    "                                      random_state=0,\n",
    "                                     )\n",
    "    )\n",
    "])\n",
    "model_gbr = pipeline_gbr.fit(X_train, y_train)"
   ]
  },
  {
   "cell_type": "code",
   "execution_count": 67,
   "metadata": {},
   "outputs": [],
   "source": [
    "# Ada Boost Regressor\n",
    "pipeline_abr = Pipeline([\n",
    "    (\"preprocesamiento\", ct),\n",
    "    (\"abr\", AdaBoostRegressor())\n",
    "])\n",
    "model_abr = pipeline_abr.fit(X_train, y_train)"
   ]
  },
  {
   "cell_type": "code",
   "execution_count": 68,
   "metadata": {
    "scrolled": true
   },
   "outputs": [
    {
     "name": "stdout",
     "output_type": "stream",
     "text": [
      "Ridge R^2 => 0.2057911178439129\n",
      "Lasso R^2 => 0.202570088003587\n",
      "Gradient Boosting Regressor R^2 => 0.493990994072642\n",
      "Ada Boost Regressor R^2 => 0.1525444782297528\n"
     ]
    }
   ],
   "source": [
    "y_pred_r = model_ridge.predict(X_test)\n",
    "y_pred_l = model_lasso.predict(X_test)\n",
    "y_pred_gbr = model_gbr.predict(X_test)\n",
    "y_pred_abr = model_abr.predict(X_test)\n",
    "print(\"Ridge R^2 => {}\".format(r2_score(y_test, y_pred_r)))\n",
    "print(\"Lasso R^2 => {}\".format(r2_score(y_test, y_pred_l)))\n",
    "print(\"Gradient Boosting Regressor R^2 => {}\".format(r2_score(y_test, y_pred_gbr)))\n",
    "print(\"Ada Boost Regressor R^2 => {}\".format(r2_score(y_test, y_pred_abr)))"
   ]
  },
  {
   "cell_type": "markdown",
   "metadata": {},
   "source": [
    "Vemos que de todos los modelos, solo el `Gradient Boosting Regressor` supera el coeficiente de determinación $R^2$ mínimo establecido por Renacin, aún así, los resultados obtenidos no son del todo prometedores, y esto puede ser consecuencia de tener salarios con mucha diferencia (outliers) entre los jugadores y de los regresores utilizados, ya que pueden tener problemas al trabajar en altas dimensiones. Para mejorar los resultados lo ideal sería aumentar la cantidad de registros que se tienen (solo se tienen 1304 registros para entrenar), además se podrían crear nuevas características con los atributos de los jugadores, es decir, se podría crear un puntaje basado en las habilidades (\"Agility, Jumping, Heading, Shot_Power, Finishing, etc.\"), cuya ponderación dependa de la posición en la que normalmente juega."
   ]
  },
  {
   "cell_type": "markdown",
   "metadata": {
    "cell_id": "502994b597214d4ba2f05e2b900d895c",
    "deepnote_cell_type": "markdown",
    "id": "Rg4ZMq8ezAH6"
   },
   "source": [
    "# Conclusión\n",
    "Eso ha sido todo para el lab de hoy, recuerden que el laboratorio tiene un plazo de entrega de una semana. Cualquier duda del laboratorio, no duden en contactarnos por mail o U-cursos.\n",
    "\n",
    "<p align=\"center\">\n",
    "  <img src=\"https://media2.giphy.com/media/l1J3CbFgn5o7DGRuE/giphy.gif\">\n",
    "</p>"
   ]
  },
  {
   "cell_type": "markdown",
   "metadata": {
    "cell_id": "da6d643bcf1542a8b119a15edaf0f75c",
    "deepnote_cell_type": "markdown",
    "id": "wCL1lACBzAH7"
   },
   "source": [
    "<br>\n",
    "<center>\n",
    "<img src=\"https://i.kym-cdn.com/photos/images/original/001/194/195/b18.png\" width=100 height=50 />\n",
    "</center>\n",
    "<br>"
   ]
  },
  {
   "cell_type": "markdown",
   "metadata": {
    "created_in_deepnote_cell": true,
    "deepnote_cell_type": "markdown",
    "tags": []
   },
   "source": [
    "<a style='text-decoration:none;line-height:16px;display:flex;color:#5B5B62;padding:10px;justify-content:end;' href='https://deepnote.com?utm_source=created-in-deepnote-cell&projectId=87110296-876e-426f-b91d-aaf681223468' target=\"_blank\">\n",
    "<img alt='Created in deepnote.com' style='display:inline;max-height:16px;margin:0px;margin-right:7.5px;' src='data:image/svg+xml;base64,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' > </img>\n",
    "Created in <span style='font-weight:600;margin-left:4px;'>Deepnote</span></a>"
   ]
  }
 ],
 "metadata": {
  "colab": {
   "collapsed_sections": [],
   "name": "Laboratorio3.ipynb",
   "provenance": []
  },
  "deepnote": {},
  "deepnote_execution_queue": [],
  "deepnote_notebook_id": "41ad7e529bfb484c8f7f538003203695",
  "kernelspec": {
   "display_name": "Python 3 (ipykernel)",
   "language": "python",
   "name": "python3"
  },
  "language_info": {
   "codemirror_mode": {
    "name": "ipython",
    "version": 3
   },
   "file_extension": ".py",
   "mimetype": "text/x-python",
   "name": "python",
   "nbconvert_exporter": "python",
   "pygments_lexer": "ipython3",
   "version": "3.9.13"
  },
  "toc": {
   "base_numbering": 1,
   "nav_menu": {},
   "number_sections": true,
   "sideBar": true,
   "skip_h1_title": true,
   "title_cell": "Tabla de Contenidos",
   "title_sidebar": "Contenidos",
   "toc_cell": false,
   "toc_position": {
    "height": "calc(100% - 180px)",
    "left": "10px",
    "top": "150px",
    "width": "241.867px"
   },
   "toc_section_display": true,
   "toc_window_display": true
  },
  "varInspector": {
   "cols": {
    "lenName": 16,
    "lenType": 16,
    "lenVar": 40
   },
   "kernels_config": {
    "python": {
     "delete_cmd_postfix": "",
     "delete_cmd_prefix": "del ",
     "library": "var_list.py",
     "varRefreshCmd": "print(var_dic_list())"
    },
    "r": {
     "delete_cmd_postfix": ") ",
     "delete_cmd_prefix": "rm(",
     "library": "var_list.r",
     "varRefreshCmd": "cat(var_dic_list()) "
    }
   },
   "types_to_exclude": [
    "module",
    "function",
    "builtin_function_or_method",
    "instance",
    "_Feature"
   ],
   "window_display": false
  }
 },
 "nbformat": 4,
 "nbformat_minor": 1
}
