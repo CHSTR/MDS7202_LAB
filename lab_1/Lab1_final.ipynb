{
 "cells": [
  {
   "cell_type": "markdown",
   "id": "bd422b55",
   "metadata": {
    "cell_id": "bfdbf4ab-01a2-4eb3-975a-8637166de34a",
    "deepnote_cell_height": 104.390625,
    "deepnote_cell_type": "markdown",
    "id": "cd7b1b55"
   },
   "source": [
    "<h1><center>Laboratorio 1: Primeros pasos 👣</center></h1>\n",
    "\n",
    "<center><strong>MDS7202: Laboratorio de Programación Científica para Ciencia de Datos - Primavera 2022</strong></center>"
   ]
  },
  {
   "cell_type": "markdown",
   "id": "c8b9727f",
   "metadata": {
    "cell_id": "00001-34166f5e-1967-44bf-93ae-9e1f689a9d2b",
    "deepnote_cell_height": 165.1875,
    "deepnote_cell_type": "markdown",
    "id": "Vp_vOHK7V97e"
   },
   "source": [
    "### Cuerpo Docente:\n",
    "\n",
    "- Profesor: Matías Rojas y Mauricio Araneda\n",
    "- Auxiliar: Ignacio Meza D.\n",
    "- Ayudante: Rodrigo Guerra"
   ]
  },
  {
   "cell_type": "markdown",
   "id": "cfb27049",
   "metadata": {
    "cell_id": "00002-de00814c-fecc-4f73-81d3-0c551d90f502",
    "deepnote_cell_height": 171.796875,
    "deepnote_cell_type": "markdown",
    "id": "4N_5AYgyWKyA"
   },
   "source": [
    "### Equipo: SUPER IMPORTANTE - notebooks sin nombre no serán revisados\n",
    "\n",
    "- Nombre de alumno 1: Diego Cortez\n",
    "- Nombre de alumno 2: Christopher Stears\n"
   ]
  },
  {
   "cell_type": "markdown",
   "id": "bdadc3c7",
   "metadata": {
    "cell_id": "00003-9e155e1b-c755-4987-a921-ef4b610a8cac",
    "deepnote_cell_height": 62,
    "deepnote_cell_type": "markdown",
    "id": "1rjlaJDEWxd9"
   },
   "source": [
    "### **Link de repositorio de GitHub:** [https://github.com/CHSTR/MDS7202_LAB](https://github.com/CHSTR/MDS7202_LAB)"
   ]
  },
  {
   "cell_type": "markdown",
   "id": "3c0a0cde",
   "metadata": {
    "cell_id": "00004-b68898c3-df7f-4924-b546-39989db5c1eb",
    "deepnote_cell_height": 271.796875,
    "deepnote_cell_type": "markdown",
    "id": "9el9ERaKWW3i"
   },
   "source": [
    "## Reglas:\n",
    "\n",
    "- Fecha de entrega: 6 días desde la publicación, 3 días de atraso con 1 punto de descuento c/u. Pueden utilizar días bonus sin descuento.\n",
    "- **Grupos de 2 personas**.\n",
    "- **Ausentes** deberán realizar la actividad solos. \n",
    "- Cualquier duda fuera del horario de clases al foro. Mensajes al equipo docente serán respondidos por este medio.\n",
    "- Prohibidas las copias. \n",
    "- Pueden usar cualquer material del curso que estimen conveniente."
   ]
  },
  {
   "cell_type": "markdown",
   "id": "f4d4453b",
   "metadata": {
    "cell_id": "00005-ee364add-3449-4845-8a64-70b2026cf418",
    "deepnote_cell_height": 249.390625,
    "deepnote_cell_type": "markdown",
    "id": "4708b9b7"
   },
   "source": [
    "\n",
    "## Objetivos del lab:\n",
    "\n",
    "\n",
    "- Variables, Operadores y Expresiones.\n",
    "- Estructuras de Control (if/else).\n",
    "- Iteraciones.\n",
    "- Listas y Diccionarios.\n",
    "- Programación Funcional (Map, Filter y Reduce).\n",
    "- Programación Orientada a Objetos (Encapsulamiento, Polimorfismo y Herencia)"
   ]
  },
  {
   "cell_type": "markdown",
   "id": "534fed99",
   "metadata": {
    "cell_id": "00006-ee59127c-6e4d-4f0a-b7b3-91fa67030c38",
    "deepnote_cell_height": 567.09375,
    "deepnote_cell_type": "markdown",
    "id": "d58b089c"
   },
   "source": [
    "## Parte 1: 🍋 Frutas 🍓\n",
    "\n",
    "En esta primera parte se trabajará lo escencial visto hasta el momento más un poco de programación funcional a través de frutas:\n",
    "\n",
    "<div align='center'>\n",
    "<img src='https://upload.wikimedia.org/wikipedia/commons/a/a2/Berries_in_Berlin.jpg' width=600/>\n",
    "</div>"
   ]
  },
  {
   "cell_type": "markdown",
   "id": "4b07f359",
   "metadata": {
    "cell_id": "00007-a7c16348-8e92-4ca9-8186-61b6469ed037",
    "deepnote_cell_height": 259.59375,
    "deepnote_cell_type": "markdown",
    "id": "5fdf6b19"
   },
   "source": [
    "Defina las siguientes frutas como diccionarios a partir de sus características (nombre, color, tipo y si posee o no pepas):\n",
    "\n",
    "| Nombre    | Tipo     | Color    | Pepas |\n",
    "|-----------|----------|----------|-------|\n",
    "| limon     | cítrica  | amarillo | True  |\n",
    "| naranja   | cítrica  | naranjo  | True  |\n",
    "| plátano   | tropical | amarillo | False |\n",
    "| piña      | tropical | amarillo | False |\n",
    "| frutilla  | bosque   | rojo     | True |\n",
    "| frambuesa | bosque   | rojo     | True |"
   ]
  },
  {
   "cell_type": "markdown",
   "id": "651a5289",
   "metadata": {
    "cell_id": "00008-129dfcb2-92ca-420e-914c-ef3d28ca94cb",
    "deepnote_cell_height": 122.796875,
    "deepnote_cell_type": "markdown",
    "id": "33aed47b"
   },
   "source": [
    "### [0.5] Estructurar Datos \n",
    "\n",
    "Agregue Piña, Frutilla y Frambuesa como diccionarios (siga los ejemplos de las frutas dadas) y luego cree un arreglo que contenga estas frutas.\n"
   ]
  },
  {
   "cell_type": "code",
   "execution_count": 1,
   "id": "6f26a7fb",
   "metadata": {
    "cell_id": "00009-dc5bdf7c-c90a-4657-9ab2-b459aae42f9c",
    "deepnote_cell_height": 436,
    "deepnote_cell_type": "code",
    "deepnote_to_be_reexecuted": false,
    "executionInfo": {
     "elapsed": 204,
     "status": "ok",
     "timestamp": 1631284900014,
     "user": {
      "displayName": "Ignacio Meza",
      "photoUrl": "https://lh3.googleusercontent.com/a-/AOh14GhI9R2Sl9kpnSGYDYcmCbQ2_IwnY3_WeFFdC_YSXg=s64",
      "userId": "07738957670140287594"
     },
     "user_tz": 180
    },
    "execution_millis": 22,
    "execution_start": 1648863016482,
    "id": "26d23e26",
    "source_hash": "56db5a38"
   },
   "outputs": [],
   "source": [
    "limon = {\n",
    "    \"nombre\": \"limón\", \n",
    "    \"tipo\": \"cítrica\", \n",
    "    \"color\": \"amarillo\", \n",
    "    \"pepas\": True\n",
    "    }\n",
    "\n",
    "naranja = {\"nombre\": \"naranja\", \n",
    "           \"tipo\": \"cítrica\", \n",
    "           \"color\": \"naranjo\", \n",
    "           \"pepas\": True\n",
    "          }\n",
    "\n",
    "platano = {\"nombre\": \"plátano\", \n",
    "           \"tipo\": \"tropical\", \n",
    "           \"color\": \"amarillo\", \n",
    "           \"pepas\": False\n",
    "          }\n",
    "          \n",
    "piña = {\n",
    "    \"nombre\": \"piña\",\n",
    "    \"tipo\": \"tropical\",\n",
    "    \"color\": \"amarillo\",\n",
    "    \"pepas\": False\n",
    "}\n",
    "\n",
    "frutilla = {\n",
    "    \"nombre\": \"frutilla\",\n",
    "    \"tipo\": \"bosque\",\n",
    "    \"color\": \"rojo\",\n",
    "    \"pepas\": True\n",
    "}\n",
    "\n",
    "frambuesa = {\n",
    "    \"nombre\": \"frambuesa\",\n",
    "    \"tipo\": \"bosque\",\n",
    "    \"color\": \"rojo\",\n",
    "    \"pepas\": True\n",
    "}"
   ]
  },
  {
   "cell_type": "markdown",
   "id": "74e59dd7",
   "metadata": {
    "cell_id": "00010-8baad02c-338c-4832-a1fb-421094a960d5",
    "deepnote_cell_height": 52.390625,
    "deepnote_cell_type": "markdown",
    "id": "259ee333"
   },
   "source": [
    "Ahora, agregue todas las frutas a un arreglo."
   ]
  },
  {
   "cell_type": "code",
   "execution_count": 2,
   "id": "0c0bcb08",
   "metadata": {
    "cell_id": "00011-c1317f9f-b373-4ffa-85a4-edae3c0d74f6",
    "deepnote_cell_height": 94,
    "deepnote_cell_type": "code",
    "deepnote_to_be_reexecuted": false,
    "executionInfo": {
     "elapsed": 3,
     "status": "ok",
     "timestamp": 1631284901845,
     "user": {
      "displayName": "Ignacio Meza",
      "photoUrl": "https://lh3.googleusercontent.com/a-/AOh14GhI9R2Sl9kpnSGYDYcmCbQ2_IwnY3_WeFFdC_YSXg=s64",
      "userId": "07738957670140287594"
     },
     "user_tz": 180
    },
    "execution_millis": 29,
    "execution_start": 1648863016524,
    "id": "fcf62186",
    "source_hash": "78d4e62"
   },
   "outputs": [],
   "source": [
    "datos = [limon, naranja, platano, piña, frutilla, frambuesa]"
   ]
  },
  {
   "cell_type": "markdown",
   "id": "822c914a",
   "metadata": {
    "cell_id": "00012-5549a576-e1ee-4f26-8bea-dfbed941bef9",
    "deepnote_cell_height": 52.390625,
    "deepnote_cell_type": "markdown",
    "id": "2ed7730e"
   },
   "source": [
    "Este arreglo será la información con la que se trabajará durante el lab."
   ]
  },
  {
   "cell_type": "markdown",
   "id": "fdc18d68",
   "metadata": {
    "cell_id": "00013-28d3dfd6-20bb-4cec-aade-bedb822304cd",
    "deepnote_cell_height": 62,
    "deepnote_cell_type": "markdown",
    "id": "e9b1e46d"
   },
   "source": [
    "### Funciones Aplicadas a los Datos [1.5 puntos]"
   ]
  },
  {
   "cell_type": "markdown",
   "id": "6a625418",
   "metadata": {
    "cell_id": "00014-cd5b819f-eab4-4c58-ad5d-38f8c7748b2a",
    "deepnote_cell_height": 614.59375,
    "deepnote_cell_type": "markdown",
    "id": "b7b016d6"
   },
   "source": [
    "Elabore las siguientes funciones:\n",
    "    \n",
    "**1. La función `describir(datos)` que genere un arreglo con strings que describan cada fruta de la siguiente manera:**\n",
    "\n",
    "```{El/La} {...} es una fruta de tipo {...} de color {...}. {Presenta/No presenta} pepas en su interior.```\n",
    "    \n",
    "Por ejemplo, para el plátano se debe generar el siguiente string:\n",
    "    \n",
    "```\n",
    "'El plátano es una fruta de tipo tropical de color amarillo. No presenta pepas en su interior.'\n",
    "```\n",
    "    \n",
    "Indicaciones: \n",
    "- Usen formateo o suma de strings, if, else y for.\n",
    "- Para saber si ocupar 'El' o 'La', pueden acceder al nombre de la fruta y ver cual es el último carácter a través de indexadores `string[indice]`.\n",
    "    \n",
    "**2. La función `filtrar_por_pepa(datos, tiene_pepas)` que dado un tipo de fruta y un booleano, retorne las frutas que tienen o no tienen pepas (según el valor de `tiene_pepas`).**\n",
    "    \n",
    "\n",
    "Por ejemplo, `filtrar_por_pepa(datos, True)` deberá retornar un arreglo con los diccionarios de: naranja, limon, frutilla y frambuesa.\n",
    "\n",
    "\n",
    "**3. La función `conteo_colores(datos)` que cree un diccionario que haga un conteo los colores de las frutas.**\n",
    "\n",
    "Para estos datos, la función debería retornar el siguiente diccionario: \n",
    "    \n",
    "```python\n",
    "{\"amarillo\": 3, \"naranjo\": 1, \"rojo\": 2}\n",
    "````"
   ]
  },
  {
   "cell_type": "code",
   "execution_count": 3,
   "id": "dcbd5d3c",
   "metadata": {
    "cell_id": "00015-60e93552-c571-4d33-8760-e0224417f3ff",
    "deepnote_cell_height": 310,
    "deepnote_cell_type": "code",
    "deepnote_to_be_reexecuted": false,
    "executionInfo": {
     "elapsed": 207,
     "status": "ok",
     "timestamp": 1631284903875,
     "user": {
      "displayName": "Ignacio Meza",
      "photoUrl": "https://lh3.googleusercontent.com/a-/AOh14GhI9R2Sl9kpnSGYDYcmCbQ2_IwnY3_WeFFdC_YSXg=s64",
      "userId": "07738957670140287594"
     },
     "user_tz": 180
    },
    "execution_millis": 0,
    "execution_start": 1648863316144,
    "id": "023bc051",
    "source_hash": "cc4d3003"
   },
   "outputs": [],
   "source": [
    "def describir(frutas):\n",
    "    descripciones = []\n",
    "    descripcion = \"\"\n",
    "    for fruta in frutas:\n",
    "        if fruta['nombre'][-1] == 'a':\n",
    "            descripcion = \"La {} es una fruta de tipo {} de color {}. \".format(fruta['nombre'], fruta['tipo'], fruta['color'])\n",
    "        else:\n",
    "            descripcion = \"El {} es una fruta de tipo {} de color {}. \".format(fruta['nombre'], fruta['tipo'], fruta['color'])\n",
    "            \n",
    "        if fruta['pepas']:\n",
    "            descripcion += \"Presenta pepas en su interior.\"\n",
    "        else:\n",
    "            descripcion += \"No presenta pepas en su interior.\"\n",
    "        descripciones.append(descripcion)\n",
    "    return descripciones\n",
    "\n",
    "\n",
    "def filtrar_por_pepa(frutas, tiene_pepas):\n",
    "    return [fruta for fruta in frutas if fruta['pepas'] == tiene_pepas]\n",
    "\n",
    "\n",
    "def conteo_colores(frutas):\n",
    "    conteo = {}\n",
    "    for fruta in frutas:\n",
    "        if fruta['color'] in conteo:\n",
    "            conteo[fruta['color']] += 1\n",
    "        else:\n",
    "            conteo[fruta['color']] = 1\n",
    "    return conteo"
   ]
  },
  {
   "cell_type": "markdown",
   "id": "0ff5dcbf",
   "metadata": {
    "cell_id": "00016-3a23b5a7-7670-44ae-9d7f-799a1c55e7fe",
    "deepnote_cell_height": 142,
    "deepnote_cell_type": "markdown",
    "id": "5240bec1"
   },
   "source": [
    "El código de la siguiente celda presenta tests para probar sus funciones: Si la ejecución de esta celda no les levanta ninguna excepción, entonces sus funciones están implementadas según lo requerido. Si alguna falla, entonces deberán corregir los errores mostrados. \n",
    "Noten que los strings, diccionarios y en general, los objetos deben ser exactamente idénticos para que el test no falle.\n"
   ]
  },
  {
   "cell_type": "markdown",
   "id": "b520c809",
   "metadata": {
    "cell_id": "00017-069e9135-e447-4925-b184-6b3caef5395d",
    "deepnote_cell_height": 52.390625,
    "deepnote_cell_type": "markdown",
    "id": "F2mt7aIusap8"
   },
   "source": [
    "**Ejecuten esta celda para comprobar su código:**"
   ]
  },
  {
   "cell_type": "code",
   "execution_count": 5,
   "id": "86aea03a",
   "metadata": {
    "cell_id": "00018-e3eddceb-a874-4260-8649-c594aedc83ce",
    "deepnote_cell_height": 657,
    "deepnote_cell_type": "code",
    "deepnote_to_be_reexecuted": false,
    "executionInfo": {
     "elapsed": 212,
     "status": "ok",
     "timestamp": 1631284905456,
     "user": {
      "displayName": "Ignacio Meza",
      "photoUrl": "https://lh3.googleusercontent.com/a-/AOh14GhI9R2Sl9kpnSGYDYcmCbQ2_IwnY3_WeFFdC_YSXg=s64",
      "userId": "07738957670140287594"
     },
     "user_tz": 180
    },
    "execution_millis": 0,
    "execution_start": 1648863016644,
    "id": "c39b58c0",
    "source_hash": "af520603"
   },
   "outputs": [],
   "source": [
    "# ---------------------------------------------------------------------\n",
    "# test descripciones\n",
    "# note que las frutas deben estar en igual orden para que este assert no falle.\n",
    "\n",
    "descripciones_esperadas = [\n",
    "    \"El limón es una fruta de tipo cítrica de color amarillo. Presenta pepas en su interior.\",\n",
    "    \"La naranja es una fruta de tipo cítrica de color naranjo. Presenta pepas en su interior.\",\n",
    "    \"El plátano es una fruta de tipo tropical de color amarillo. No presenta pepas en su interior.\",\n",
    "    \"La piña es una fruta de tipo tropical de color amarillo. No presenta pepas en su interior.\",\n",
    "    \"La frutilla es una fruta de tipo bosque de color rojo. Presenta pepas en su interior.\",\n",
    "    \"La frambuesa es una fruta de tipo bosque de color rojo. Presenta pepas en su interior.\",\n",
    "]\n",
    "\n",
    "assert descripciones_esperadas == describir(datos)\n",
    "\n",
    "\n",
    "# ---------------------------------------------------------------------\n",
    "# test filtro\n",
    "frutas_con_pepa_esperadas = [\n",
    "    {\"nombre\": \"limón\", \"tipo\": \"cítrica\", \"color\": \"amarillo\", \"pepas\": True},\n",
    "    {\"nombre\": \"naranja\", \"tipo\": \"cítrica\", \"color\": \"naranjo\", \"pepas\": True},\n",
    "    {\"nombre\": \"frutilla\", \"tipo\": \"bosque\", \"color\": \"rojo\", \"pepas\": True},\n",
    "    {\"nombre\": \"frambuesa\", \"tipo\": \"bosque\", \"color\": \"rojo\", \"pepas\": True}\n",
    "]\n",
    "\n",
    "assert frutas_con_pepa_esperadas == filtrar_por_pepa(datos, True)\n",
    "\n",
    "# ---------------------------------------------------------------------\n",
    "# test conteo\n",
    "conteo_esperado = {'amarillo': 3, 'naranjo': 1, 'rojo': 2}\n",
    "\n",
    "\n",
    "assert conteo_esperado == conteo_colores(datos)"
   ]
  },
  {
   "cell_type": "markdown",
   "id": "4cf3ffe3",
   "metadata": {
    "cell_id": "00019-4f86fe93-a6fe-4f70-a2de-9502e44b49b5",
    "deepnote_cell_height": 100.390625,
    "deepnote_cell_type": "markdown",
    "id": "yvry-8cgmHk5"
   },
   "source": [
    "### Implementaciones Funcionales [1.0 punto] \n",
    "\n",
    "Implementar las funciones de la sección anterior de forma funcional (solo las primeras 2)."
   ]
  },
  {
   "cell_type": "code",
   "execution_count": 6,
   "id": "3c8304b6",
   "metadata": {
    "cell_id": "00020-dad72fd1-f187-41f7-8a0c-4146cb5b306f",
    "deepnote_cell_height": 274,
    "deepnote_cell_type": "code",
    "deepnote_to_be_reexecuted": false,
    "execution_millis": 3,
    "execution_start": 1648863330543,
    "id": "c6ef993a",
    "source_hash": "64c31950"
   },
   "outputs": [],
   "source": [
    "def describir_funcional(datos):\n",
    "\n",
    "    def generar_descripcion(fruta):\n",
    "        descripcion = \"\"\n",
    "        if fruta['nombre'][-1] == 'a':\n",
    "            descripcion = \"La {} es una fruta de tipo {} de color {}. \".format(fruta['nombre'], fruta['tipo'], fruta['color'])\n",
    "        else:\n",
    "            descripcion = \"El {} es una fruta de tipo {} de color {}. \".format(fruta['nombre'], fruta['tipo'], fruta['color'])\n",
    "            \n",
    "        if fruta['pepas']:\n",
    "            descripcion += \"Presenta pepas en su interior.\"\n",
    "        else:\n",
    "            descripcion += \"No presenta pepas en su interior.\"\n",
    "\n",
    "        return descripcion\n",
    "    \n",
    "    descripciones = list(map(generar_descripcion, datos))\n",
    "    return descripciones\n",
    "\n",
    "def filtrar_por_pepa_funcional(datos, tipo_de_dato):\n",
    "    filtrados = list(filter(lambda fruta: fruta['pepas'] == tipo_de_dato, datos))\n",
    "    return filtrados"
   ]
  },
  {
   "cell_type": "code",
   "execution_count": 7,
   "id": "1e4be35a",
   "metadata": {
    "cell_id": "00021-b768865a-b51d-42df-870e-5ce765869644",
    "deepnote_cell_height": 94,
    "deepnote_cell_type": "code",
    "deepnote_to_be_reexecuted": false,
    "execution_millis": 4,
    "execution_start": 1648863332481,
    "id": "OyGdi9IRS9fy",
    "source_hash": "a202dbc8"
   },
   "outputs": [],
   "source": [
    "assert descripciones_esperadas == describir_funcional(datos)\n",
    "assert frutas_con_pepa_esperadas == filtrar_por_pepa_funcional(datos, True)"
   ]
  },
  {
   "cell_type": "markdown",
   "id": "8800bec6",
   "metadata": {
    "cell_id": "00022-276603b2-51d4-4b7f-8001-a1616289e70e",
    "deepnote_cell_height": 723.59375,
    "deepnote_cell_type": "markdown",
    "id": "492b941a"
   },
   "source": [
    "## Parte 2: Electrodomésticos \n",
    "\n",
    "En esta parte se solicitarán un par de clases que permitirá jugar con la Programación Orientada a Objetos.\n",
    "\n",
    "<div align='center'>\n",
    "<img src='https://upload.wikimedia.org/wikipedia/commons/6/67/Breville.jpg' width=400/>\n",
    "</div>\n",
    "\n",
    "\n",
    "### [0.5] Clase Electrodoméstico\n",
    "\n",
    "Defina la clase `Electrodomestico` que implemente:\n",
    "\n",
    "\n",
    "- Un constructor que defina un atributo de instancia llamado `enchufado` que almacene valores booleanos. \n",
    "- Un método llamado `esta_enchufado(self)` que levante una excepción `Exception` y que termine con la ejecución del programa cuando el atributo enchuado sea `False`. La exepción debe levantar el mensaje `'Alerta ⚠️: El electrodoméstico no está enchufado'`\n",
    "- Un método llamado `enchufar(self)` que cambia el estado de `enchufado` a True.\n",
    "\n"
   ]
  },
  {
   "cell_type": "code",
   "execution_count": 8,
   "id": "436fed58",
   "metadata": {
    "cell_id": "00023-6491b37f-6bf9-48c1-8dd6-64734002117f",
    "deepnote_cell_height": 238,
    "deepnote_cell_type": "code",
    "deepnote_to_be_reexecuted": false,
    "executionInfo": {
     "elapsed": 211,
     "status": "ok",
     "timestamp": 1631284910016,
     "user": {
      "displayName": "Ignacio Meza",
      "photoUrl": "https://lh3.googleusercontent.com/a-/AOh14GhI9R2Sl9kpnSGYDYcmCbQ2_IwnY3_WeFFdC_YSXg=s64",
      "userId": "07738957670140287594"
     },
     "user_tz": 180
    },
    "execution_millis": 21,
    "execution_start": 1648863016745,
    "id": "9f8aa475",
    "source_hash": "43ca10f0"
   },
   "outputs": [],
   "source": [
    "class Electrodomestico:\n",
    "    def __init__(self):\n",
    "        self.enchufado=False\n",
    "    def esta_enchufado(self):\n",
    "        if not self.enchufado:\n",
    "            raise Exception('Alerta ⚠️: El electrodoméstico no está enchufado')\n",
    "    def enchufar(self):\n",
    "        self.enchufado = True"
   ]
  },
  {
   "cell_type": "markdown",
   "id": "bf2a4d84",
   "metadata": {
    "cell_id": "00024-0d2d8181-6462-4204-9fa4-da88063e46c8",
    "deepnote_cell_height": 1059.59375,
    "deepnote_cell_type": "markdown",
    "id": "d7d477b5"
   },
   "source": [
    "### Clase Jugera [1.0 puntos] \n",
    "\n",
    "\n",
    "<div align='center'>\n",
    "<img src='https://upload.wikimedia.org/wikipedia/commons/b/bb/Liquadora_%28parts%29.JPG' width=400/>\n",
    "</div>\n",
    "\n",
    "\n",
    "Implemente la clase `Jugera` que extiende `Electrodomestico` y que implemente: \n",
    "\n",
    "\n",
    "- Un constructor que tenga una lista de ingredientes frutales (llamado `bandeja`).\n",
    "\n",
    "\n",
    "- Un método llamado `agregar_ingrediente(self, nueva_fruta)` que dado una fruta, agregue esa fruta a la `bandeja`.\n",
    "\n",
    "- Un método llamado `listar_ingredientes(self)` que imprima (con `print`) los ingredientes actuales de la `bandeja` de la siguiente forma: \n",
    "\n",
    "    `Ingredientes en la bandeja: frutilla, frambuesa, piña.`\n",
    "\n",
    "De lo contrario si no tiene ingredientes imprima:\n",
    "\n",
    "    `Bandeja vacía`\n",
    "\n",
    "\n",
    "**Hint:** Investigar el método `join` de un string para generar el string con los nombres de las frutas.\n",
    "    \n",
    "    \n",
    "    \n",
    "\n",
    "- Un método llamado `preparar_jugo(self)` que: \n",
    "    - Primero verifique que el electrodoméstico esté enchufado usando `self.esta_enchufado()`.\n",
    "    - Verifique que haya por lo menos un ingrediente en la `bandeja`. En el caso que no haya, levantar una excepción con contenido `'Error ❌: La bandeja no tiene ingredientes.'`\n",
    "    - Verifique que ninguna fruta tenga pepas. En el caso que haya alguna, imprimir (con `print`) el mensaje de advertencia `'Alerta ⚠️: El jugo puede contener restos de pepas.'`. Puede usar la función definida en la sección anterior.\n",
    "    - Genere un mensaje indicado `Jugo de {nombres de las frutas separadas por una ,} listo. 🏖️🥤 Que lo disfrutes!!! 🥤🏖️. ` (Hint: Usar nuevamente `join`).\n",
    "    - Vacie la `bandeja` (es decir, eliminar todas las frutas de la bandeja).\n",
    "    - Retorne el mensaje generado.\n"
   ]
  },
  {
   "cell_type": "code",
   "execution_count": 9,
   "id": "dc2de915",
   "metadata": {
    "cell_id": "00025-bb7f14a6-ab47-4169-9435-6cab7ecf5ccf",
    "deepnote_cell_height": 346,
    "deepnote_cell_type": "code",
    "deepnote_to_be_reexecuted": false,
    "executionInfo": {
     "elapsed": 200,
     "status": "ok",
     "timestamp": 1631284912218,
     "user": {
      "displayName": "Ignacio Meza",
      "photoUrl": "https://lh3.googleusercontent.com/a-/AOh14GhI9R2Sl9kpnSGYDYcmCbQ2_IwnY3_WeFFdC_YSXg=s64",
      "userId": "07738957670140287594"
     },
     "user_tz": 180
    },
    "execution_millis": 0,
    "execution_start": 1648863366156,
    "id": "d9db037b",
    "source_hash": "fe592b51"
   },
   "outputs": [],
   "source": [
    "class Jugera(Electrodomestico):\n",
    "    def __init__(self):\n",
    "        super().__init__()\n",
    "        self.bandeja=[]\n",
    "    def agregar_ingrediente(self, nueva_fruta):\n",
    "        assert isinstance(nueva_fruta, dict), \"Las frutas deben ser diccionarios\"\n",
    "        self.bandeja.append(nueva_fruta)\n",
    "    def listar_ingredientes(self):\n",
    "        if len(self.bandeja) > 0:\n",
    "            print(\"Ingredientes en la bandeja: \"+\", \".join([fruta[\"nombre\"] for fruta in self.bandeja])+\".\")\n",
    "        else:\n",
    "            print(\"Bandeja vacía\")\n",
    "    def preparar_jugo(self):\n",
    "        mensaje=None\n",
    "        self.esta_enchufado()\n",
    "        if len(self.bandeja) == 0:\n",
    "            raise Exception('Error ❌: La bandeja no tiene ingredientes.')\n",
    "        if True in [fruta[\"pepas\"] for fruta in self.bandeja]:\n",
    "            print('Alerta ⚠️: El jugo puede contener restos de pepas.')\n",
    "        mensaje = f'Jugo de {\", \".join([fruta[\"nombre\"] for fruta in self.bandeja]) } listo. 🏖️🥤 Que lo disfrutes!!! 🥤🏖️'\n",
    "        self.bandeja = []\n",
    "        return mensaje"
   ]
  },
  {
   "cell_type": "markdown",
   "id": "a0114032",
   "metadata": {
    "cell_id": "00026-21181882-8e79-4805-8e16-94ba7fcf4a37",
    "deepnote_cell_height": 122.796875,
    "deepnote_cell_type": "markdown",
    "id": "6889015a"
   },
   "source": [
    "### Interacciones\n",
    "\n",
    "Las siguientes celdas les permitirán probar las interacciones de esta clase.\n",
    "La ejecución es solo referencial y no lleva puntaje. La idea es que la utilice como guía para desarrollar la clase."
   ]
  },
  {
   "cell_type": "code",
   "execution_count": 10,
   "id": "771f380d",
   "metadata": {
    "cell_id": "00027-1867ac2c-f7af-402f-b64b-90b3a762058a",
    "colab": {
     "base_uri": "https://localhost:8080/"
    },
    "deepnote_cell_height": 161,
    "deepnote_cell_type": "code",
    "deepnote_to_be_reexecuted": false,
    "executionInfo": {
     "elapsed": 269,
     "status": "ok",
     "timestamp": 1631284915045,
     "user": {
      "displayName": "Ignacio Meza",
      "photoUrl": "https://lh3.googleusercontent.com/a-/AOh14GhI9R2Sl9kpnSGYDYcmCbQ2_IwnY3_WeFFdC_YSXg=s64",
      "userId": "07738957670140287594"
     },
     "user_tz": 180
    },
    "execution_millis": 8,
    "execution_start": 1648863369348,
    "id": "913af660",
    "outputId": "7164b289-ab75-48f5-a03f-4396c8841115",
    "source_hash": "239b8903"
   },
   "outputs": [
    {
     "name": "stdout",
     "output_type": "stream",
     "text": [
      "Bandeja vacía\n"
     ]
    }
   ],
   "source": [
    "jugera = Jugera()\n",
    "\n",
    "# Como no tenemos ingredientes, listar_ingredientes deberá imprimir 'Bandeja vacía'\n",
    "jugera.listar_ingredientes()"
   ]
  },
  {
   "cell_type": "code",
   "execution_count": 11,
   "id": "93102f53",
   "metadata": {
    "cell_id": "00028-de679d95-a42c-48f6-86ff-3ca92f9de2c2",
    "colab": {
     "base_uri": "https://localhost:8080/",
     "height": 337
    },
    "deepnote_cell_height": 157.1875,
    "deepnote_cell_type": "code",
    "deepnote_to_be_reexecuted": false,
    "executionInfo": {
     "elapsed": 237,
     "status": "error",
     "timestamp": 1630330986057,
     "user": {
      "displayName": "Pablo Fernando Badilla Torrealba",
      "photoUrl": "https://lh3.googleusercontent.com/a-/AOh14GhZ9wO5kZX0PA8fZAhVQswlN5woaZe0JQGA3vxVLw=s64",
      "userId": "14091881033206329524"
     },
     "user_tz": 240
    },
    "execution_millis": 20,
    "execution_start": 1648863371573,
    "id": "9d06bf3e",
    "outputId": "0570ec3a-fc16-4239-b7d2-ed3db46b9cbe",
    "scrolled": false,
    "source_hash": "77689b24"
   },
   "outputs": [
    {
     "ename": "Exception",
     "evalue": "Alerta ⚠️: El electrodoméstico no está enchufado",
     "output_type": "error",
     "traceback": [
      "\u001b[1;31m---------------------------------------------------------------------------\u001b[0m",
      "\u001b[1;31mException\u001b[0m                                 Traceback (most recent call last)",
      "Input \u001b[1;32mIn [11]\u001b[0m, in \u001b[0;36m<cell line: 2>\u001b[1;34m()\u001b[0m\n\u001b[0;32m      1\u001b[0m \u001b[38;5;66;03m# Esta celda debería levantar una excepcion indicando que no está enchufada la jugera.\u001b[39;00m\n\u001b[1;32m----> 2\u001b[0m \u001b[43mjugera\u001b[49m\u001b[38;5;241;43m.\u001b[39;49m\u001b[43mpreparar_jugo\u001b[49m\u001b[43m(\u001b[49m\u001b[43m)\u001b[49m\n",
      "Input \u001b[1;32mIn [9]\u001b[0m, in \u001b[0;36mJugera.preparar_jugo\u001b[1;34m(self)\u001b[0m\n\u001b[0;32m     13\u001b[0m \u001b[38;5;28;01mdef\u001b[39;00m \u001b[38;5;21mpreparar_jugo\u001b[39m(\u001b[38;5;28mself\u001b[39m):\n\u001b[0;32m     14\u001b[0m     mensaje\u001b[38;5;241m=\u001b[39m\u001b[38;5;28;01mNone\u001b[39;00m\n\u001b[1;32m---> 15\u001b[0m     \u001b[38;5;28;43mself\u001b[39;49m\u001b[38;5;241;43m.\u001b[39;49m\u001b[43mesta_enchufado\u001b[49m\u001b[43m(\u001b[49m\u001b[43m)\u001b[49m\n\u001b[0;32m     16\u001b[0m     \u001b[38;5;28;01mif\u001b[39;00m \u001b[38;5;28mlen\u001b[39m(\u001b[38;5;28mself\u001b[39m\u001b[38;5;241m.\u001b[39mbandeja) \u001b[38;5;241m==\u001b[39m \u001b[38;5;241m0\u001b[39m:\n\u001b[0;32m     17\u001b[0m         \u001b[38;5;28;01mraise\u001b[39;00m \u001b[38;5;167;01mException\u001b[39;00m(\u001b[38;5;124m'\u001b[39m\u001b[38;5;124mError ❌: La bandeja no tiene ingredientes.\u001b[39m\u001b[38;5;124m'\u001b[39m)\n",
      "Input \u001b[1;32mIn [8]\u001b[0m, in \u001b[0;36mElectrodomestico.esta_enchufado\u001b[1;34m(self)\u001b[0m\n\u001b[0;32m      4\u001b[0m \u001b[38;5;28;01mdef\u001b[39;00m \u001b[38;5;21mesta_enchufado\u001b[39m(\u001b[38;5;28mself\u001b[39m):\n\u001b[0;32m      5\u001b[0m     \u001b[38;5;28;01mif\u001b[39;00m \u001b[38;5;129;01mnot\u001b[39;00m \u001b[38;5;28mself\u001b[39m\u001b[38;5;241m.\u001b[39menchufado:\n\u001b[1;32m----> 6\u001b[0m         \u001b[38;5;28;01mraise\u001b[39;00m \u001b[38;5;167;01mException\u001b[39;00m(\u001b[38;5;124m'\u001b[39m\u001b[38;5;124mAlerta ⚠️: El electrodoméstico no está enchufado\u001b[39m\u001b[38;5;124m'\u001b[39m)\n",
      "\u001b[1;31mException\u001b[0m: Alerta ⚠️: El electrodoméstico no está enchufado"
     ]
    }
   ],
   "source": [
    "# Esta celda debería levantar una excepcion indicando que no está enchufada la jugera.\n",
    "jugera.preparar_jugo()"
   ]
  },
  {
   "cell_type": "code",
   "execution_count": 12,
   "id": "f0c8adf7",
   "metadata": {
    "cell_id": "00029-d9165e10-9c64-4c24-9a09-8ab9d42107fe",
    "deepnote_cell_height": 94,
    "deepnote_cell_type": "code",
    "deepnote_to_be_reexecuted": false,
    "execution_millis": 0,
    "execution_start": 1648863372430,
    "id": "3ad38f18",
    "source_hash": "36a2ab49"
   },
   "outputs": [],
   "source": [
    "# Enchufamos el electrodoméstico\n",
    "jugera.enchufar()"
   ]
  },
  {
   "cell_type": "code",
   "execution_count": 13,
   "id": "19370e85",
   "metadata": {
    "cell_id": "00030-21f1cce1-c787-421e-9a9d-568148509bfa",
    "colab": {
     "base_uri": "https://localhost:8080/",
     "height": 299
    },
    "deepnote_cell_height": 162.1875,
    "deepnote_cell_type": "code",
    "deepnote_to_be_reexecuted": false,
    "executionInfo": {
     "elapsed": 235,
     "status": "error",
     "timestamp": 1630289215369,
     "user": {
      "displayName": "Ignacio Meza",
      "photoUrl": "https://lh3.googleusercontent.com/a-/AOh14GhI9R2Sl9kpnSGYDYcmCbQ2_IwnY3_WeFFdC_YSXg=s64",
      "userId": "07738957670140287594"
     },
     "user_tz": 240
    },
    "execution_millis": 173,
    "execution_start": 1648863376136,
    "id": "48009872",
    "outputId": "c340d269-afa0-4d70-e489-d5c3710dda6e",
    "scrolled": true,
    "source_hash": "27514b2c"
   },
   "outputs": [
    {
     "ename": "Exception",
     "evalue": "Error ❌: La bandeja no tiene ingredientes.",
     "output_type": "error",
     "traceback": [
      "\u001b[1;31m---------------------------------------------------------------------------\u001b[0m",
      "\u001b[1;31mException\u001b[0m                                 Traceback (most recent call last)",
      "Input \u001b[1;32mIn [13]\u001b[0m, in \u001b[0;36m<cell line: 2>\u001b[1;34m()\u001b[0m\n\u001b[0;32m      1\u001b[0m \u001b[38;5;66;03m# Esta celda debería levantar ina excepción informandoles que la bandeja no tiene ingredientes.\u001b[39;00m\n\u001b[1;32m----> 2\u001b[0m \u001b[43mjugera\u001b[49m\u001b[38;5;241;43m.\u001b[39;49m\u001b[43mpreparar_jugo\u001b[49m\u001b[43m(\u001b[49m\u001b[43m)\u001b[49m\n",
      "Input \u001b[1;32mIn [9]\u001b[0m, in \u001b[0;36mJugera.preparar_jugo\u001b[1;34m(self)\u001b[0m\n\u001b[0;32m     15\u001b[0m \u001b[38;5;28mself\u001b[39m\u001b[38;5;241m.\u001b[39mesta_enchufado()\n\u001b[0;32m     16\u001b[0m \u001b[38;5;28;01mif\u001b[39;00m \u001b[38;5;28mlen\u001b[39m(\u001b[38;5;28mself\u001b[39m\u001b[38;5;241m.\u001b[39mbandeja) \u001b[38;5;241m==\u001b[39m \u001b[38;5;241m0\u001b[39m:\n\u001b[1;32m---> 17\u001b[0m     \u001b[38;5;28;01mraise\u001b[39;00m \u001b[38;5;167;01mException\u001b[39;00m(\u001b[38;5;124m'\u001b[39m\u001b[38;5;124mError ❌: La bandeja no tiene ingredientes.\u001b[39m\u001b[38;5;124m'\u001b[39m)\n\u001b[0;32m     18\u001b[0m \u001b[38;5;28;01mif\u001b[39;00m \u001b[38;5;28;01mTrue\u001b[39;00m \u001b[38;5;129;01min\u001b[39;00m [fruta[\u001b[38;5;124m\"\u001b[39m\u001b[38;5;124mpepas\u001b[39m\u001b[38;5;124m\"\u001b[39m] \u001b[38;5;28;01mfor\u001b[39;00m fruta \u001b[38;5;129;01min\u001b[39;00m \u001b[38;5;28mself\u001b[39m\u001b[38;5;241m.\u001b[39mbandeja]:\n\u001b[0;32m     19\u001b[0m     \u001b[38;5;28mprint\u001b[39m(\u001b[38;5;124m'\u001b[39m\u001b[38;5;124mAlerta ⚠️: El jugo puede contener restos de pepas.\u001b[39m\u001b[38;5;124m'\u001b[39m)\n",
      "\u001b[1;31mException\u001b[0m: Error ❌: La bandeja no tiene ingredientes."
     ]
    }
   ],
   "source": [
    "# Esta celda debería levantar ina excepción informandoles que la bandeja no tiene ingredientes.\n",
    "jugera.preparar_jugo()"
   ]
  },
  {
   "cell_type": "code",
   "execution_count": 14,
   "id": "f396d891",
   "metadata": {
    "cell_id": "00031-557247ee-0b0e-419d-ab91-05eb6c622fea",
    "colab": {
     "base_uri": "https://localhost:8080/"
    },
    "deepnote_cell_height": 197,
    "deepnote_cell_type": "code",
    "deepnote_to_be_reexecuted": false,
    "executionInfo": {
     "elapsed": 194,
     "status": "ok",
     "timestamp": 1631284926980,
     "user": {
      "displayName": "Ignacio Meza",
      "photoUrl": "https://lh3.googleusercontent.com/a-/AOh14GhI9R2Sl9kpnSGYDYcmCbQ2_IwnY3_WeFFdC_YSXg=s64",
      "userId": "07738957670140287594"
     },
     "user_tz": 180
    },
    "execution_millis": 6,
    "execution_start": 1648863377052,
    "id": "4873e0bf",
    "outputId": "4ee534c1-047a-44e7-a78f-dfb2f9c35ecc",
    "source_hash": "a8f0979e"
   },
   "outputs": [
    {
     "name": "stdout",
     "output_type": "stream",
     "text": [
      "Ingredientes en la bandeja: naranja, plátano.\n"
     ]
    }
   ],
   "source": [
    "# Agregamos algunos ingredientes\n",
    "jugera.agregar_ingrediente(naranja)\n",
    "jugera.agregar_ingrediente(platano)\n",
    "\n",
    "# Y los listamos (debería imprimir: 'Ingredientes en la bandeja: naranja, plátano')\n",
    "jugera.listar_ingredientes()"
   ]
  },
  {
   "cell_type": "code",
   "execution_count": 15,
   "id": "35ea895e",
   "metadata": {
    "cell_id": "00032-fe1976d4-c86a-446c-bd56-cc8fcc77902d",
    "colab": {
     "base_uri": "https://localhost:8080/",
     "height": 35
    },
    "deepnote_cell_height": 176.1875,
    "deepnote_cell_type": "code",
    "deepnote_output_heights": [
     null,
     20.1875
    ],
    "deepnote_to_be_reexecuted": false,
    "executionInfo": {
     "elapsed": 4,
     "status": "ok",
     "timestamp": 1630289217727,
     "user": {
      "displayName": "Ignacio Meza",
      "photoUrl": "https://lh3.googleusercontent.com/a-/AOh14GhI9R2Sl9kpnSGYDYcmCbQ2_IwnY3_WeFFdC_YSXg=s64",
      "userId": "07738957670140287594"
     },
     "user_tz": 240
    },
    "execution_millis": 5,
    "execution_start": 1648863380098,
    "id": "ff555151",
    "outputId": "a1645680-8b1c-47d7-f2c0-111198632692",
    "source_hash": "7086345e"
   },
   "outputs": [
    {
     "name": "stdout",
     "output_type": "stream",
     "text": [
      "Alerta ⚠️: El jugo puede contener restos de pepas.\n"
     ]
    },
    {
     "data": {
      "text/plain": [
       "'Jugo de naranja, plátano listo. 🏖️🥤 Que lo disfrutes!!! 🥤🏖️'"
      ]
     },
     "execution_count": 15,
     "metadata": {},
     "output_type": "execute_result"
    }
   ],
   "source": [
    "# Preparamos el jugo: 'Jugo de naranja, plátano listo. 🏖️🥤 Que lo disfrutes!!! 🥤🏖️.'\n",
    "jugera.preparar_jugo()"
   ]
  },
  {
   "cell_type": "code",
   "execution_count": 16,
   "id": "2e5d2f4a",
   "metadata": {
    "cell_id": "00033-b4fab02e-5c0b-4370-b0ff-f5e7fc5e06ba",
    "colab": {
     "base_uri": "https://localhost:8080/"
    },
    "deepnote_cell_height": 125,
    "deepnote_cell_type": "code",
    "deepnote_to_be_reexecuted": false,
    "executionInfo": {
     "elapsed": 3,
     "status": "ok",
     "timestamp": 1630289219060,
     "user": {
      "displayName": "Ignacio Meza",
      "photoUrl": "https://lh3.googleusercontent.com/a-/AOh14GhI9R2Sl9kpnSGYDYcmCbQ2_IwnY3_WeFFdC_YSXg=s64",
      "userId": "07738957670140287594"
     },
     "user_tz": 240
    },
    "execution_millis": 0,
    "execution_start": 1648863382273,
    "id": "bbc532b2",
    "outputId": "b4c0f575-3a0c-45ab-dec0-6bd27b30d9e7",
    "source_hash": "6a032d0a"
   },
   "outputs": [
    {
     "name": "stdout",
     "output_type": "stream",
     "text": [
      "Bandeja vacía\n"
     ]
    }
   ],
   "source": [
    "# Una vez preparado el jugo, debería vaciarse la bandeja (imprimir Bandeja vacía)\n",
    "jugera.listar_ingredientes()"
   ]
  },
  {
   "cell_type": "markdown",
   "id": "a4f587a5",
   "metadata": {
    "cell_id": "00034-73d8fb0c-4cf8-48a7-8cba-d20f701f942e",
    "deepnote_cell_height": 297.1875,
    "deepnote_cell_type": "markdown",
    "id": "972dbcac"
   },
   "source": [
    "### Clase Jugera + Properties  [1.0]\n",
    "\n",
    "Implementar `bandeja` usando una `property` que permita setear una `nueva_bandeja` como `bandeja` según las siguientes condiciones:\n",
    "\n",
    "\n",
    "- Compruebe que `nueva_bandeja` sea una lista. En caso contrario, levante una excepción.\n",
    "- No permita agregar más de 3 ingredientes a la bandeja a la vez. Si se entregan más de 3 frutas, se levante una excepción.\n",
    "- Se compruebe que todos los elementos del arreglo sean frutas. Para esto, por cada fruta compruebe que:\n",
    "    1. La fruta sea diccionario.\n",
    "    2. El diccionario entregado tenga las llaves `nombre`, `tipo`, `color` y `pepas`."
   ]
  },
  {
   "cell_type": "code",
   "execution_count": 17,
   "id": "cbc84831",
   "metadata": {
    "cell_id": "00035-61c68f41-ca47-4794-9d61-1b5d3197d5a1",
    "deepnote_cell_height": 490,
    "deepnote_cell_type": "code",
    "deepnote_to_be_reexecuted": false,
    "executionInfo": {
     "elapsed": 229,
     "status": "ok",
     "timestamp": 1631284838081,
     "user": {
      "displayName": "Ignacio Meza",
      "photoUrl": "https://lh3.googleusercontent.com/a-/AOh14GhI9R2Sl9kpnSGYDYcmCbQ2_IwnY3_WeFFdC_YSXg=s64",
      "userId": "07738957670140287594"
     },
     "user_tz": 180
    },
    "execution_millis": 5,
    "execution_start": 1648863394051,
    "id": "X3RXI9nisGfa",
    "source_hash": "68977855"
   },
   "outputs": [],
   "source": [
    "class Jugera(Electrodomestico):\n",
    "    def __init__(self):\n",
    "        super().__init__()\n",
    "        self.__bandeja=[]\n",
    "    @property\n",
    "    def bandeja(self):\n",
    "        return self.__bandeja \n",
    "    @bandeja.setter\n",
    "    def bandeja(self, nueva_bandeja):\n",
    "        if not isinstance(nueva_bandeja, list):\n",
    "            raise TypeError(\"El atributo bandeja debe ser una lista\")\n",
    "        if len(nueva_bandeja) >3:\n",
    "            raise ValueError(\"El atributo bandeja debe inicializarse con 3 o menos ingredientes\")\n",
    "        for fruta in [f for f in nueva_bandeja if not isinstance(f, dict)]:\n",
    "            raise TypeError(f\"La fruta {fruta} no es un diccionario\")\n",
    "        for fruta, atributo in [(f, a) for f in nueva_bandeja for a in (\"tipo\", \"color\", \"pepas\")]:\n",
    "            if not \"nombre\" in fruta:\n",
    "                raise KeyError(\"Una de las frutas no tiene nombre\")\n",
    "            elif not atributo in fruta:\n",
    "                raise KeyError(f\"A la fruta {fruta['nombre']} le falta el atributo {atributo}.\")\n",
    "        self.__bandeja = nueva_bandeja\n",
    "    def agregar_ingrediente(self, nueva_fruta):\n",
    "        if not isinstance(nueva_fruta, dict):\n",
    "            raise TypeError(\"La fruta debe ser un diccionario\")\n",
    "        elif not \"nombre\" in nueva_fruta:\n",
    "            raise KeyError(\"La fruta no tiene nombre\")\n",
    "        for atributo in [a for a in (\"tipo\", \"color\", \"pepas\") if not a in nueva_fruta]:\n",
    "            raise KeyError(f\"A la fruta le falta el atributo {atributo}.\")\n",
    "        self.__bandeja.append(nueva_fruta)\n",
    "    def listar_ingredientes(self):\n",
    "        if len(self.__bandeja) > 0:\n",
    "            print(\"Ingredientes en la bandeja: \"+\", \".join([fruta[\"nombre\"] for fruta in self.__bandeja])+\".\")\n",
    "        else:\n",
    "            print(\"Bandeja vacía\")\n",
    "    def preparar_jugo(self):\n",
    "        mensaje=None\n",
    "        self.esta_enchufado()\n",
    "        if len(self.bandeja) == 0:\n",
    "            raise Exception('Error ❌: La bandeja no tiene ingredientes.')\n",
    "        if True in [fruta[\"pepas\"] for fruta in self.__bandeja]:\n",
    "            print('Alerta ⚠️: El jugo puede contener restos de pepas.')\n",
    "        mensaje = f'Jugo de {\", \".join([fruta[\"nombre\"] for fruta in self.__bandeja]) } listo. 🏖️🥤 Que lo disfrutes!!! 🥤🏖️'\n",
    "        self.__bandeja = []\n",
    "        return mensaje\n"
   ]
  },
  {
   "cell_type": "markdown",
   "id": "443a3a4d",
   "metadata": {
    "cell_id": "00036-342fea3a-f9ca-4640-8b91-b8aad9dbe1f4",
    "deepnote_cell_height": 122.796875,
    "deepnote_cell_type": "markdown",
    "tags": []
   },
   "source": [
    "### Interacciones\n",
    "\n",
    "Las siguientes celdas les permitirán probar las interacciones de esta clase.\n",
    "La ejecución es solo referencial y no lleva puntaje. La idea es que la utilice como guía para desarrollar la clase."
   ]
  },
  {
   "cell_type": "code",
   "execution_count": 18,
   "id": "c018db1f",
   "metadata": {
    "cell_id": "00037-17d018bc-6787-43f5-b3bf-cced43cb481c",
    "deepnote_cell_height": 143,
    "deepnote_cell_type": "code",
    "deepnote_to_be_reexecuted": false,
    "execution_millis": 4,
    "execution_start": 1648863396777,
    "source_hash": "d7617c26",
    "tags": []
   },
   "outputs": [
    {
     "name": "stdout",
     "output_type": "stream",
     "text": [
      "Bandeja vacía\n"
     ]
    }
   ],
   "source": [
    "jugera_2 = Jugera()\n",
    "\n",
    "jugera_2.listar_ingredientes()"
   ]
  },
  {
   "cell_type": "code",
   "execution_count": 19,
   "id": "a74ceeaf",
   "metadata": {
    "cell_id": "00038-95a2db01-4115-48c9-bb65-7038de5dd2ff",
    "deepnote_cell_height": 139.1875,
    "deepnote_cell_type": "code",
    "deepnote_to_be_reexecuted": false,
    "execution_millis": 18,
    "execution_start": 1648863398145,
    "source_hash": "480070d3",
    "tags": []
   },
   "outputs": [
    {
     "ename": "Exception",
     "evalue": "Alerta ⚠️: El electrodoméstico no está enchufado",
     "output_type": "error",
     "traceback": [
      "\u001b[1;31m---------------------------------------------------------------------------\u001b[0m",
      "\u001b[1;31mException\u001b[0m                                 Traceback (most recent call last)",
      "Input \u001b[1;32mIn [19]\u001b[0m, in \u001b[0;36m<cell line: 1>\u001b[1;34m()\u001b[0m\n\u001b[1;32m----> 1\u001b[0m \u001b[43mjugera_2\u001b[49m\u001b[38;5;241;43m.\u001b[39;49m\u001b[43mpreparar_jugo\u001b[49m\u001b[43m(\u001b[49m\u001b[43m)\u001b[49m\n",
      "Input \u001b[1;32mIn [17]\u001b[0m, in \u001b[0;36mJugera.preparar_jugo\u001b[1;34m(self)\u001b[0m\n\u001b[0;32m     35\u001b[0m \u001b[38;5;28;01mdef\u001b[39;00m \u001b[38;5;21mpreparar_jugo\u001b[39m(\u001b[38;5;28mself\u001b[39m):\n\u001b[0;32m     36\u001b[0m     mensaje\u001b[38;5;241m=\u001b[39m\u001b[38;5;28;01mNone\u001b[39;00m\n\u001b[1;32m---> 37\u001b[0m     \u001b[38;5;28;43mself\u001b[39;49m\u001b[38;5;241;43m.\u001b[39;49m\u001b[43mesta_enchufado\u001b[49m\u001b[43m(\u001b[49m\u001b[43m)\u001b[49m\n\u001b[0;32m     38\u001b[0m     \u001b[38;5;28;01mif\u001b[39;00m \u001b[38;5;28mlen\u001b[39m(\u001b[38;5;28mself\u001b[39m\u001b[38;5;241m.\u001b[39mbandeja) \u001b[38;5;241m==\u001b[39m \u001b[38;5;241m0\u001b[39m:\n\u001b[0;32m     39\u001b[0m         \u001b[38;5;28;01mraise\u001b[39;00m \u001b[38;5;167;01mException\u001b[39;00m(\u001b[38;5;124m'\u001b[39m\u001b[38;5;124mError ❌: La bandeja no tiene ingredientes.\u001b[39m\u001b[38;5;124m'\u001b[39m)\n",
      "Input \u001b[1;32mIn [8]\u001b[0m, in \u001b[0;36mElectrodomestico.esta_enchufado\u001b[1;34m(self)\u001b[0m\n\u001b[0;32m      4\u001b[0m \u001b[38;5;28;01mdef\u001b[39;00m \u001b[38;5;21mesta_enchufado\u001b[39m(\u001b[38;5;28mself\u001b[39m):\n\u001b[0;32m      5\u001b[0m     \u001b[38;5;28;01mif\u001b[39;00m \u001b[38;5;129;01mnot\u001b[39;00m \u001b[38;5;28mself\u001b[39m\u001b[38;5;241m.\u001b[39menchufado:\n\u001b[1;32m----> 6\u001b[0m         \u001b[38;5;28;01mraise\u001b[39;00m \u001b[38;5;167;01mException\u001b[39;00m(\u001b[38;5;124m'\u001b[39m\u001b[38;5;124mAlerta ⚠️: El electrodoméstico no está enchufado\u001b[39m\u001b[38;5;124m'\u001b[39m)\n",
      "\u001b[1;31mException\u001b[0m: Alerta ⚠️: El electrodoméstico no está enchufado"
     ]
    }
   ],
   "source": [
    "jugera_2.preparar_jugo()"
   ]
  },
  {
   "cell_type": "code",
   "execution_count": 20,
   "id": "09e09647",
   "metadata": {
    "cell_id": "00039-648e90a9-a693-4d0a-8692-a20751cfc99a",
    "deepnote_cell_height": 94,
    "deepnote_cell_type": "code",
    "deepnote_to_be_reexecuted": false,
    "execution_millis": 3,
    "execution_start": 1648863398900,
    "source_hash": "d3e1edd9",
    "tags": []
   },
   "outputs": [],
   "source": [
    "# Enchufamos el electrodoméstico\n",
    "jugera_2.enchufar()"
   ]
  },
  {
   "cell_type": "code",
   "execution_count": 21,
   "id": "4d54519e",
   "metadata": {
    "cell_id": "00040-88f17b75-396d-4170-88cd-bafad6f7f911",
    "deepnote_cell_height": 162.1875,
    "deepnote_cell_type": "code",
    "deepnote_to_be_reexecuted": false,
    "execution_millis": 17,
    "execution_start": 1648863400238,
    "source_hash": "b81f1f5b",
    "tags": []
   },
   "outputs": [
    {
     "ename": "Exception",
     "evalue": "Error ❌: La bandeja no tiene ingredientes.",
     "output_type": "error",
     "traceback": [
      "\u001b[1;31m---------------------------------------------------------------------------\u001b[0m",
      "\u001b[1;31mException\u001b[0m                                 Traceback (most recent call last)",
      "Input \u001b[1;32mIn [21]\u001b[0m, in \u001b[0;36m<cell line: 2>\u001b[1;34m()\u001b[0m\n\u001b[0;32m      1\u001b[0m \u001b[38;5;66;03m# Esta celda debería levantar ina excepción informandoles que la bandeja no tiene ingredientes.\u001b[39;00m\n\u001b[1;32m----> 2\u001b[0m \u001b[43mjugera_2\u001b[49m\u001b[38;5;241;43m.\u001b[39;49m\u001b[43mpreparar_jugo\u001b[49m\u001b[43m(\u001b[49m\u001b[43m)\u001b[49m\n",
      "Input \u001b[1;32mIn [17]\u001b[0m, in \u001b[0;36mJugera.preparar_jugo\u001b[1;34m(self)\u001b[0m\n\u001b[0;32m     37\u001b[0m \u001b[38;5;28mself\u001b[39m\u001b[38;5;241m.\u001b[39mesta_enchufado()\n\u001b[0;32m     38\u001b[0m \u001b[38;5;28;01mif\u001b[39;00m \u001b[38;5;28mlen\u001b[39m(\u001b[38;5;28mself\u001b[39m\u001b[38;5;241m.\u001b[39mbandeja) \u001b[38;5;241m==\u001b[39m \u001b[38;5;241m0\u001b[39m:\n\u001b[1;32m---> 39\u001b[0m     \u001b[38;5;28;01mraise\u001b[39;00m \u001b[38;5;167;01mException\u001b[39;00m(\u001b[38;5;124m'\u001b[39m\u001b[38;5;124mError ❌: La bandeja no tiene ingredientes.\u001b[39m\u001b[38;5;124m'\u001b[39m)\n\u001b[0;32m     40\u001b[0m \u001b[38;5;28;01mif\u001b[39;00m \u001b[38;5;28;01mTrue\u001b[39;00m \u001b[38;5;129;01min\u001b[39;00m [fruta[\u001b[38;5;124m\"\u001b[39m\u001b[38;5;124mpepas\u001b[39m\u001b[38;5;124m\"\u001b[39m] \u001b[38;5;28;01mfor\u001b[39;00m fruta \u001b[38;5;129;01min\u001b[39;00m \u001b[38;5;28mself\u001b[39m\u001b[38;5;241m.\u001b[39m__bandeja]:\n\u001b[0;32m     41\u001b[0m     \u001b[38;5;28mprint\u001b[39m(\u001b[38;5;124m'\u001b[39m\u001b[38;5;124mAlerta ⚠️: El jugo puede contener restos de pepas.\u001b[39m\u001b[38;5;124m'\u001b[39m)\n",
      "\u001b[1;31mException\u001b[0m: Error ❌: La bandeja no tiene ingredientes."
     ]
    }
   ],
   "source": [
    "# Esta celda debería levantar ina excepción informandoles que la bandeja no tiene ingredientes.\n",
    "jugera_2.preparar_jugo()"
   ]
  },
  {
   "cell_type": "code",
   "execution_count": 22,
   "id": "55fc2688",
   "metadata": {
    "cell_id": "00041-d568b85e-c5c6-4906-94a7-01c11a0dc18d",
    "deepnote_cell_height": 157.1875,
    "deepnote_cell_type": "code",
    "deepnote_to_be_reexecuted": false,
    "execution_millis": 482,
    "execution_start": 1648863402271,
    "source_hash": "a016a727",
    "tags": []
   },
   "outputs": [
    {
     "ename": "ValueError",
     "evalue": "El atributo bandeja debe inicializarse con 3 o menos ingredientes",
     "output_type": "error",
     "traceback": [
      "\u001b[1;31m---------------------------------------------------------------------------\u001b[0m",
      "\u001b[1;31mValueError\u001b[0m                                Traceback (most recent call last)",
      "Input \u001b[1;32mIn [22]\u001b[0m, in \u001b[0;36m<cell line: 2>\u001b[1;34m()\u001b[0m\n\u001b[0;32m      1\u001b[0m \u001b[38;5;66;03m# Agregamos algunos ingredientes (en este caso, como son más de 3, fallará)\u001b[39;00m\n\u001b[1;32m----> 2\u001b[0m jugera_2\u001b[38;5;241m.\u001b[39mbandeja \u001b[38;5;241m=\u001b[39m [naranja, platano, frutilla, limon]\n",
      "Input \u001b[1;32mIn [17]\u001b[0m, in \u001b[0;36mJugera.bandeja\u001b[1;34m(self, nueva_bandeja)\u001b[0m\n\u001b[0;32m     11\u001b[0m     \u001b[38;5;28;01mraise\u001b[39;00m \u001b[38;5;167;01mTypeError\u001b[39;00m(\u001b[38;5;124m\"\u001b[39m\u001b[38;5;124mEl atributo bandeja debe ser una lista\u001b[39m\u001b[38;5;124m\"\u001b[39m)\n\u001b[0;32m     12\u001b[0m \u001b[38;5;28;01mif\u001b[39;00m \u001b[38;5;28mlen\u001b[39m(nueva_bandeja) \u001b[38;5;241m>\u001b[39m\u001b[38;5;241m3\u001b[39m:\n\u001b[1;32m---> 13\u001b[0m     \u001b[38;5;28;01mraise\u001b[39;00m \u001b[38;5;167;01mValueError\u001b[39;00m(\u001b[38;5;124m\"\u001b[39m\u001b[38;5;124mEl atributo bandeja debe inicializarse con 3 o menos ingredientes\u001b[39m\u001b[38;5;124m\"\u001b[39m)\n\u001b[0;32m     14\u001b[0m \u001b[38;5;28;01mfor\u001b[39;00m fruta \u001b[38;5;129;01min\u001b[39;00m [f \u001b[38;5;28;01mfor\u001b[39;00m f \u001b[38;5;129;01min\u001b[39;00m nueva_bandeja \u001b[38;5;28;01mif\u001b[39;00m \u001b[38;5;129;01mnot\u001b[39;00m \u001b[38;5;28misinstance\u001b[39m(f, \u001b[38;5;28mdict\u001b[39m)]:\n\u001b[0;32m     15\u001b[0m     \u001b[38;5;28;01mraise\u001b[39;00m \u001b[38;5;167;01mTypeError\u001b[39;00m(\u001b[38;5;124mf\u001b[39m\u001b[38;5;124m\"\u001b[39m\u001b[38;5;124mLa fruta \u001b[39m\u001b[38;5;132;01m{\u001b[39;00mfruta\u001b[38;5;132;01m}\u001b[39;00m\u001b[38;5;124m no es un diccionario\u001b[39m\u001b[38;5;124m\"\u001b[39m)\n",
      "\u001b[1;31mValueError\u001b[0m: El atributo bandeja debe inicializarse con 3 o menos ingredientes"
     ]
    }
   ],
   "source": [
    "# Agregamos algunos ingredientes (en este caso, como son más de 3, fallará)\n",
    "jugera_2.bandeja = [naranja, platano, frutilla, limon]"
   ]
  },
  {
   "cell_type": "code",
   "execution_count": 23,
   "id": "98c124f9",
   "metadata": {
    "cell_id": "00042-8428a7c5-2a18-4c9f-9550-f5caa8f375f5",
    "deepnote_cell_height": 175.1875,
    "deepnote_cell_type": "code",
    "deepnote_to_be_reexecuted": false,
    "execution_millis": 20,
    "execution_start": 1648863404537,
    "source_hash": "561a3ff9",
    "tags": []
   },
   "outputs": [
    {
     "ename": "TypeError",
     "evalue": "La fruta naranja no es un diccionario",
     "output_type": "error",
     "traceback": [
      "\u001b[1;31m---------------------------------------------------------------------------\u001b[0m",
      "\u001b[1;31mTypeError\u001b[0m                                 Traceback (most recent call last)",
      "Input \u001b[1;32mIn [23]\u001b[0m, in \u001b[0;36m<cell line: 3>\u001b[1;34m()\u001b[0m\n\u001b[0;32m      1\u001b[0m \u001b[38;5;66;03m# Agregamos algunos ingredientes \u001b[39;00m\n\u001b[0;32m      2\u001b[0m \u001b[38;5;66;03m# (en este caso debería fallar, ya que estamos entregando un string en el primer lugar)\u001b[39;00m\n\u001b[1;32m----> 3\u001b[0m jugera_2\u001b[38;5;241m.\u001b[39mbandeja \u001b[38;5;241m=\u001b[39m [\u001b[38;5;124m\"\u001b[39m\u001b[38;5;124mnaranja\u001b[39m\u001b[38;5;124m\"\u001b[39m, platano, frutilla]\n",
      "Input \u001b[1;32mIn [17]\u001b[0m, in \u001b[0;36mJugera.bandeja\u001b[1;34m(self, nueva_bandeja)\u001b[0m\n\u001b[0;32m     13\u001b[0m     \u001b[38;5;28;01mraise\u001b[39;00m \u001b[38;5;167;01mValueError\u001b[39;00m(\u001b[38;5;124m\"\u001b[39m\u001b[38;5;124mEl atributo bandeja debe inicializarse con 3 o menos ingredientes\u001b[39m\u001b[38;5;124m\"\u001b[39m)\n\u001b[0;32m     14\u001b[0m \u001b[38;5;28;01mfor\u001b[39;00m fruta \u001b[38;5;129;01min\u001b[39;00m [f \u001b[38;5;28;01mfor\u001b[39;00m f \u001b[38;5;129;01min\u001b[39;00m nueva_bandeja \u001b[38;5;28;01mif\u001b[39;00m \u001b[38;5;129;01mnot\u001b[39;00m \u001b[38;5;28misinstance\u001b[39m(f, \u001b[38;5;28mdict\u001b[39m)]:\n\u001b[1;32m---> 15\u001b[0m     \u001b[38;5;28;01mraise\u001b[39;00m \u001b[38;5;167;01mTypeError\u001b[39;00m(\u001b[38;5;124mf\u001b[39m\u001b[38;5;124m\"\u001b[39m\u001b[38;5;124mLa fruta \u001b[39m\u001b[38;5;132;01m{\u001b[39;00mfruta\u001b[38;5;132;01m}\u001b[39;00m\u001b[38;5;124m no es un diccionario\u001b[39m\u001b[38;5;124m\"\u001b[39m)\n\u001b[0;32m     16\u001b[0m \u001b[38;5;28;01mfor\u001b[39;00m fruta, atributo \u001b[38;5;129;01min\u001b[39;00m [(f, a) \u001b[38;5;28;01mfor\u001b[39;00m f \u001b[38;5;129;01min\u001b[39;00m nueva_bandeja \u001b[38;5;28;01mfor\u001b[39;00m a \u001b[38;5;129;01min\u001b[39;00m (\u001b[38;5;124m\"\u001b[39m\u001b[38;5;124mtipo\u001b[39m\u001b[38;5;124m\"\u001b[39m, \u001b[38;5;124m\"\u001b[39m\u001b[38;5;124mcolor\u001b[39m\u001b[38;5;124m\"\u001b[39m, \u001b[38;5;124m\"\u001b[39m\u001b[38;5;124mpepas\u001b[39m\u001b[38;5;124m\"\u001b[39m)]:\n\u001b[0;32m     17\u001b[0m     \u001b[38;5;28;01mif\u001b[39;00m \u001b[38;5;129;01mnot\u001b[39;00m \u001b[38;5;124m\"\u001b[39m\u001b[38;5;124mnombre\u001b[39m\u001b[38;5;124m\"\u001b[39m \u001b[38;5;129;01min\u001b[39;00m fruta:\n",
      "\u001b[1;31mTypeError\u001b[0m: La fruta naranja no es un diccionario"
     ]
    }
   ],
   "source": [
    "# Agregamos algunos ingredientes \n",
    "# (en este caso debería fallar, ya que estamos entregando un string en el primer lugar)\n",
    "jugera_2.bandeja = [\"naranja\", platano, frutilla]"
   ]
  },
  {
   "cell_type": "code",
   "execution_count": 24,
   "id": "293aaeba",
   "metadata": {
    "cell_id": "00043-cdaa6e03-e046-4306-b84e-6aa8d00e6b4f",
    "deepnote_cell_height": 175.1875,
    "deepnote_cell_type": "code",
    "deepnote_to_be_reexecuted": false,
    "execution_millis": 2,
    "execution_start": 1648863408300,
    "source_hash": "ecc3586",
    "tags": []
   },
   "outputs": [
    {
     "ename": "KeyError",
     "evalue": "'A la fruta arándano le falta el atributo tipo.'",
     "output_type": "error",
     "traceback": [
      "\u001b[1;31m---------------------------------------------------------------------------\u001b[0m",
      "\u001b[1;31mKeyError\u001b[0m                                  Traceback (most recent call last)",
      "Input \u001b[1;32mIn [24]\u001b[0m, in \u001b[0;36m<cell line: 3>\u001b[1;34m()\u001b[0m\n\u001b[0;32m      1\u001b[0m \u001b[38;5;66;03m# Agregamos algunos ingredientes \u001b[39;00m\n\u001b[0;32m      2\u001b[0m \u001b[38;5;66;03m# (en este caso debería fallar, ya que arándando tiene solo la llave nombre)\u001b[39;00m\n\u001b[1;32m----> 3\u001b[0m jugera_2\u001b[38;5;241m.\u001b[39mbandeja \u001b[38;5;241m=\u001b[39m [{\u001b[38;5;124m'\u001b[39m\u001b[38;5;124mnombre\u001b[39m\u001b[38;5;124m'\u001b[39m: \u001b[38;5;124m'\u001b[39m\u001b[38;5;124marándano\u001b[39m\u001b[38;5;124m'\u001b[39m}, platano, frutilla]\n",
      "Input \u001b[1;32mIn [17]\u001b[0m, in \u001b[0;36mJugera.bandeja\u001b[1;34m(self, nueva_bandeja)\u001b[0m\n\u001b[0;32m     18\u001b[0m         \u001b[38;5;28;01mraise\u001b[39;00m \u001b[38;5;167;01mKeyError\u001b[39;00m(\u001b[38;5;124m\"\u001b[39m\u001b[38;5;124mUna de las frutas no tiene nombre\u001b[39m\u001b[38;5;124m\"\u001b[39m)\n\u001b[0;32m     19\u001b[0m     \u001b[38;5;28;01melif\u001b[39;00m \u001b[38;5;129;01mnot\u001b[39;00m atributo \u001b[38;5;129;01min\u001b[39;00m fruta:\n\u001b[1;32m---> 20\u001b[0m         \u001b[38;5;28;01mraise\u001b[39;00m \u001b[38;5;167;01mKeyError\u001b[39;00m(\u001b[38;5;124mf\u001b[39m\u001b[38;5;124m\"\u001b[39m\u001b[38;5;124mA la fruta \u001b[39m\u001b[38;5;132;01m{\u001b[39;00mfruta[\u001b[38;5;124m'\u001b[39m\u001b[38;5;124mnombre\u001b[39m\u001b[38;5;124m'\u001b[39m]\u001b[38;5;132;01m}\u001b[39;00m\u001b[38;5;124m le falta el atributo \u001b[39m\u001b[38;5;132;01m{\u001b[39;00matributo\u001b[38;5;132;01m}\u001b[39;00m\u001b[38;5;124m.\u001b[39m\u001b[38;5;124m\"\u001b[39m)\n\u001b[0;32m     21\u001b[0m \u001b[38;5;28mself\u001b[39m\u001b[38;5;241m.\u001b[39m__bandeja \u001b[38;5;241m=\u001b[39m nueva_bandeja\n",
      "\u001b[1;31mKeyError\u001b[0m: 'A la fruta arándano le falta el atributo tipo.'"
     ]
    }
   ],
   "source": [
    "# Agregamos algunos ingredientes \n",
    "# (en este caso debería fallar, ya que arándando tiene solo la llave nombre)\n",
    "jugera_2.bandeja = [{'nombre': 'arándano'}, platano, frutilla]"
   ]
  },
  {
   "cell_type": "code",
   "execution_count": 25,
   "id": "63b8fecb",
   "metadata": {
    "cell_id": "00044-5f6a180e-79e3-43be-9bac-9d8ca3d8994d",
    "deepnote_cell_height": 179,
    "deepnote_cell_type": "code",
    "deepnote_to_be_reexecuted": false,
    "execution_millis": 6,
    "execution_start": 1648863409767,
    "source_hash": "b2bcbf",
    "tags": []
   },
   "outputs": [
    {
     "name": "stdout",
     "output_type": "stream",
     "text": [
      "Ingredientes en la bandeja: naranja, plátano, frutilla.\n"
     ]
    }
   ],
   "source": [
    "# Agregamos algunos ingredientes (en este caso, como son 3, debería funcionar)\n",
    "jugera_2.bandeja = [naranja, platano, frutilla]\n",
    "\n",
    "# Y los listamos (debería imprimir: 'Ingredientes en la bandeja: naranja, plátano')\n",
    "jugera_2.listar_ingredientes()"
   ]
  },
  {
   "cell_type": "code",
   "execution_count": 26,
   "id": "f2040411",
   "metadata": {
    "cell_id": "00045-97676ca5-7d02-499f-974d-9e53412fcdc2",
    "deepnote_cell_height": 194.1875,
    "deepnote_cell_type": "code",
    "deepnote_output_heights": [
     null,
     20.1875
    ],
    "deepnote_to_be_reexecuted": false,
    "execution_millis": 5,
    "execution_start": 1648863411760,
    "source_hash": "a9d685c1",
    "tags": []
   },
   "outputs": [
    {
     "name": "stdout",
     "output_type": "stream",
     "text": [
      "Alerta ⚠️: El jugo puede contener restos de pepas.\n"
     ]
    },
    {
     "data": {
      "text/plain": [
       "'Jugo de naranja, plátano, frutilla listo. 🏖️🥤 Que lo disfrutes!!! 🥤🏖️'"
      ]
     },
     "execution_count": 26,
     "metadata": {},
     "output_type": "execute_result"
    }
   ],
   "source": [
    "# Una vez preparado el jugo, imprima el contenido del jugo y si una alerta, \n",
    "# en el caso que el jugo tenga pepas.\n",
    "jugera_2.preparar_jugo()"
   ]
  },
  {
   "cell_type": "markdown",
   "id": "63c9f2ca",
   "metadata": {
    "created_in_deepnote_cell": true,
    "deepnote_cell_type": "markdown",
    "tags": []
   },
   "source": [
    "<a style='text-decoration:none;line-height:16px;display:flex;color:#5B5B62;padding:10px;justify-content:end;' href='https://deepnote.com?utm_source=created-in-deepnote-cell&projectId=87110296-876e-426f-b91d-aaf681223468' target=\"_blank\">\n",
    "<img alt='Created in deepnote.com' style='display:inline;max-height:16px;margin:0px;margin-right:7.5px;' src='data:image/svg+xml;base64,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' > </img>\n",
    "Created in <span style='font-weight:600;margin-left:4px;'>Deepnote</span></a>"
   ]
  }
 ],
 "metadata": {
  "colab": {
   "collapsed_sections": [],
   "name": "Lab1_pauta.ipynb",
   "provenance": []
  },
  "deepnote": {},
  "deepnote_execution_queue": [],
  "deepnote_notebook_id": "de356b11-874c-495a-ba14-3a203f214e90",
  "kernelspec": {
   "display_name": "Python 3 (ipykernel)",
   "language": "python",
   "name": "python3"
  },
  "language_info": {
   "codemirror_mode": {
    "name": "ipython",
    "version": 3
   },
   "file_extension": ".py",
   "mimetype": "text/x-python",
   "name": "python",
   "nbconvert_exporter": "python",
   "pygments_lexer": "ipython3",
   "version": "3.9.12"
  }
 },
 "nbformat": 4,
 "nbformat_minor": 5
}
